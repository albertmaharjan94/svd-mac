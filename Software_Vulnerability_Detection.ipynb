{
 "cells": [
  {
   "cell_type": "markdown",
   "id": "228db9cf",
   "metadata": {
    "slideshow": {
     "slide_type": "slide"
    }
   },
   "source": [
    "# Vulnerability Detection in Source Code using deep learning algorithm"
   ]
  },
  {
   "cell_type": "markdown",
   "id": "dba1a026",
   "metadata": {
    "slideshow": {
     "slide_type": "-"
    }
   },
   "source": [
    "- Datasets are available at https://osf.io/d45bw/.\n",
    "- Distribution of datasets: Training (80%), Validation ( 10%), and Testing ( 10%).\n",
    "- The dataset contains the source code of 1.27 million functions extracted from open source software and    labelled for possible vulnerabilities using static analysis. \n",
    "- Starting with the function name, the raw source code for each function is kept as a variable-length UTF-8 string.Each function has five binary 'vulnerability' labels, one for each of the four most prominent CWEs in our data plus all others:\n",
    "    - CWE-120 (3.7% of functions)\n",
    "    - CWE-119 (1.9% of functions)\n",
    "    - CWE-469 (0.95% of functions)\n",
    "    - CWE-476 (0.21% of functions)\n",
    "    - CWE-other (2.7% of functions)\n",
    "- Each function may have several labelled CWEs."
   ]
  },
  {
   "cell_type": "markdown",
   "id": "83d13a71",
   "metadata": {
    "slideshow": {
     "slide_type": "-"
    }
   },
   "source": [
    "## Data Pre-processing"
   ]
  },
  {
   "cell_type": "markdown",
   "id": "7f0c2c52",
   "metadata": {
    "slideshow": {
     "slide_type": "-"
    }
   },
   "source": [
    "Converting HDF5 files to python pickle"
   ]
  },
  {
   "cell_type": "code",
   "execution_count": 1,
   "id": "10441827",
   "metadata": {},
   "outputs": [],
   "source": [
    "import h5py\n",
    "import pandas as pd"
   ]
  },
  {
   "cell_type": "markdown",
   "id": "59764713",
   "metadata": {
    "slideshow": {
     "slide_type": "-"
    }
   },
   "source": [
    "Opening HDF5 file where the data is provided in three HDF5 files corresponding to an 80:10:10 train/validate/test split"
   ]
  },
  {
   "cell_type": "code",
   "execution_count": 2,
   "id": "6e4418e4",
   "metadata": {
    "slideshow": {
     "slide_type": "-"
    }
   },
   "outputs": [],
   "source": [
    "data = h5py.File(\"Draper_VDISC_Dataset/VDISC_train.hdf5\",'r') #train dataset \n",
    "#data = h5py.File(\"Draper_VDISC_Dataset/VDISC_validate.hdf5\",'r') #validation dataset\n",
    "#data = h5py.File(\"Draper_VDISC_Dataset/VDISC_test.hdf5\",'r') #test dataset"
   ]
  },
  {
   "cell_type": "code",
   "execution_count": 3,
   "id": "35254eea",
   "metadata": {},
   "outputs": [
    {
     "name": "stdout",
     "output_type": "stream",
     "text": [
      "<class 'h5py._hl.files.File'>\n"
     ]
    }
   ],
   "source": [
    "print(type(data))"
   ]
  },
  {
   "cell_type": "code",
   "execution_count": 4,
   "id": "3254cca8",
   "metadata": {},
   "outputs": [
    {
     "name": "stdout",
     "output_type": "stream",
     "text": [
      "<KeysViewHDF5 ['CWE-119', 'CWE-120', 'CWE-469', 'CWE-476', 'CWE-other', 'functionSource']>\n"
     ]
    }
   ],
   "source": [
    "#printing labeled datasets\n",
    "print(data.keys())"
   ]
  },
  {
   "cell_type": "code",
   "execution_count": 5,
   "id": "7983033b",
   "metadata": {
    "slideshow": {
     "slide_type": "-"
    }
   },
   "outputs": [
    {
     "name": "stdout",
     "output_type": "stream",
     "text": [
      "CWE-119\n",
      "CWE-120\n",
      "CWE-469\n",
      "CWE-476\n",
      "CWE-other\n",
      "functionSource\n"
     ]
    }
   ],
   "source": [
    "# List all groups\n",
    "data.visit(print)"
   ]
  },
  {
   "cell_type": "markdown",
   "id": "d46cd6cd",
   "metadata": {
    "slideshow": {
     "slide_type": "-"
    }
   },
   "source": [
    "Generating a new dataframe from the HDF5 file"
   ]
  },
  {
   "cell_type": "code",
   "execution_count": 6,
   "id": "9f94cbe3",
   "metadata": {
    "slideshow": {
     "slide_type": "-"
    }
   },
   "outputs": [],
   "source": [
    "data_frame = pd.DataFrame(list(data['functionSource']))"
   ]
  },
  {
   "cell_type": "code",
   "execution_count": 7,
   "id": "d94a8aff",
   "metadata": {
    "slideshow": {
     "slide_type": "-"
    }
   },
   "outputs": [
    {
     "name": "stdout",
     "output_type": "stream",
     "text": [
      "                                                         0\n",
      "0        b'clear_area(int startx, int starty, int xsize...\n",
      "1        b'ReconstructDuList(Statement* head)\\n{\\n    S...\n",
      "2        b'free_speaker(void)\\n{\\n   if(Lengths)\\n     ...\n",
      "3        b'mlx4_register_device(struct mlx4_dev *dev)\\n...\n",
      "4        b'Parse_Env_Var(void)\\n{\\n  char *p = getenv(\"...\n",
      "...                                                    ...\n",
      "1019466  b'visitICmpInst(ICmpInst &I) {\\n  // We must c...\n",
      "1019467  b'path_node_delete_chain(path_node * head)\\n{\\...\n",
      "1019468  b'addrconf6_start (NMDevice *self)\\n{\\n\\tNMDev...\n",
      "1019469  b'Next(const SQObjectPtr &refpos, SQObjectPtr ...\n",
      "1019470  b'EffectHealMaxHealth(SpellEffectIndex /*eff_i...\n",
      "\n",
      "[1019471 rows x 1 columns]\n"
     ]
    }
   ],
   "source": [
    "print(data_frame)"
   ]
  },
  {
   "cell_type": "code",
   "execution_count": 8,
   "id": "d2924be9",
   "metadata": {
    "slideshow": {
     "slide_type": "-"
    }
   },
   "outputs": [],
   "source": [
    "data_frame['CWE-119']=list(data['CWE-119'])"
   ]
  },
  {
   "cell_type": "code",
   "execution_count": 9,
   "id": "74435f79",
   "metadata": {
    "slideshow": {
     "slide_type": "-"
    }
   },
   "outputs": [
    {
     "name": "stdout",
     "output_type": "stream",
     "text": [
      "0          False\n",
      "1          False\n",
      "2          False\n",
      "3          False\n",
      "4           True\n",
      "           ...  \n",
      "1019466    False\n",
      "1019467    False\n",
      "1019468    False\n",
      "1019469    False\n",
      "1019470    False\n",
      "Name: CWE-119, Length: 1019471, dtype: bool\n"
     ]
    }
   ],
   "source": [
    "print(data_frame['CWE-119'])"
   ]
  },
  {
   "cell_type": "code",
   "execution_count": 10,
   "id": "b1497a26",
   "metadata": {
    "slideshow": {
     "slide_type": "-"
    }
   },
   "outputs": [],
   "source": [
    "data_frame['CWE-120']=list(data['CWE-120'])"
   ]
  },
  {
   "cell_type": "code",
   "execution_count": 11,
   "id": "a2ea8a25",
   "metadata": {
    "slideshow": {
     "slide_type": "-"
    }
   },
   "outputs": [
    {
     "name": "stdout",
     "output_type": "stream",
     "text": [
      "0          False\n",
      "1          False\n",
      "2          False\n",
      "3          False\n",
      "4           True\n",
      "           ...  \n",
      "1019466    False\n",
      "1019467    False\n",
      "1019468    False\n",
      "1019469    False\n",
      "1019470    False\n",
      "Name: CWE-120, Length: 1019471, dtype: bool\n"
     ]
    }
   ],
   "source": [
    "print(data_frame['CWE-120'])"
   ]
  },
  {
   "cell_type": "code",
   "execution_count": 12,
   "id": "a4ae0e3b",
   "metadata": {
    "slideshow": {
     "slide_type": "-"
    }
   },
   "outputs": [],
   "source": [
    "data_frame['CWE-469']=list(data['CWE-469'])"
   ]
  },
  {
   "cell_type": "code",
   "execution_count": 13,
   "id": "b93c67f4",
   "metadata": {
    "slideshow": {
     "slide_type": "-"
    }
   },
   "outputs": [
    {
     "name": "stdout",
     "output_type": "stream",
     "text": [
      "0          False\n",
      "1          False\n",
      "2          False\n",
      "3          False\n",
      "4          False\n",
      "           ...  \n",
      "1019466    False\n",
      "1019467    False\n",
      "1019468    False\n",
      "1019469    False\n",
      "1019470    False\n",
      "Name: CWE-469, Length: 1019471, dtype: bool\n"
     ]
    }
   ],
   "source": [
    "print(data_frame['CWE-469'])"
   ]
  },
  {
   "cell_type": "code",
   "execution_count": 14,
   "id": "ae18d377",
   "metadata": {
    "slideshow": {
     "slide_type": "-"
    }
   },
   "outputs": [],
   "source": [
    "data_frame['CWE-476']=list(data['CWE-476']) "
   ]
  },
  {
   "cell_type": "code",
   "execution_count": 15,
   "id": "31c35575",
   "metadata": {
    "slideshow": {
     "slide_type": "-"
    }
   },
   "outputs": [
    {
     "name": "stdout",
     "output_type": "stream",
     "text": [
      "0          False\n",
      "1          False\n",
      "2          False\n",
      "3          False\n",
      "4          False\n",
      "           ...  \n",
      "1019466    False\n",
      "1019467    False\n",
      "1019468    False\n",
      "1019469    False\n",
      "1019470    False\n",
      "Name: CWE-476, Length: 1019471, dtype: bool\n"
     ]
    }
   ],
   "source": [
    "print(data_frame['CWE-476'])"
   ]
  },
  {
   "cell_type": "code",
   "execution_count": 16,
   "id": "ffc41cd5",
   "metadata": {},
   "outputs": [],
   "source": [
    "data_frame['CWE-other']=list(data['CWE-other']) "
   ]
  },
  {
   "cell_type": "code",
   "execution_count": 17,
   "id": "706ec3aa",
   "metadata": {},
   "outputs": [
    {
     "name": "stdout",
     "output_type": "stream",
     "text": [
      "0          False\n",
      "1          False\n",
      "2          False\n",
      "3          False\n",
      "4           True\n",
      "           ...  \n",
      "1019466    False\n",
      "1019467    False\n",
      "1019468    False\n",
      "1019469    False\n",
      "1019470    False\n",
      "Name: CWE-other, Length: 1019471, dtype: bool\n"
     ]
    }
   ],
   "source": [
    "print(data_frame['CWE-other'])"
   ]
  },
  {
   "cell_type": "code",
   "execution_count": 18,
   "id": "cd59eee4",
   "metadata": {
    "slideshow": {
     "slide_type": "-"
    }
   },
   "outputs": [],
   "source": [
    "data_frame.rename(columns={0:'functionSource'},inplace=True)"
   ]
  },
  {
   "cell_type": "code",
   "execution_count": 19,
   "id": "ba5a87d8",
   "metadata": {
    "slideshow": {
     "slide_type": "-"
    }
   },
   "outputs": [
    {
     "data": {
      "text/html": [
       "<div>\n",
       "<style scoped>\n",
       "    .dataframe tbody tr th:only-of-type {\n",
       "        vertical-align: middle;\n",
       "    }\n",
       "\n",
       "    .dataframe tbody tr th {\n",
       "        vertical-align: top;\n",
       "    }\n",
       "\n",
       "    .dataframe thead th {\n",
       "        text-align: right;\n",
       "    }\n",
       "</style>\n",
       "<table border=\"1\" class=\"dataframe\">\n",
       "  <thead>\n",
       "    <tr style=\"text-align: right;\">\n",
       "      <th></th>\n",
       "      <th>functionSource</th>\n",
       "      <th>CWE-119</th>\n",
       "      <th>CWE-120</th>\n",
       "      <th>CWE-469</th>\n",
       "      <th>CWE-476</th>\n",
       "      <th>CWE-other</th>\n",
       "    </tr>\n",
       "  </thead>\n",
       "  <tbody>\n",
       "    <tr>\n",
       "      <th>0</th>\n",
       "      <td>b'clear_area(int startx, int starty, int xsize...</td>\n",
       "      <td>False</td>\n",
       "      <td>False</td>\n",
       "      <td>False</td>\n",
       "      <td>False</td>\n",
       "      <td>False</td>\n",
       "    </tr>\n",
       "    <tr>\n",
       "      <th>1</th>\n",
       "      <td>b'ReconstructDuList(Statement* head)\\n{\\n    S...</td>\n",
       "      <td>False</td>\n",
       "      <td>False</td>\n",
       "      <td>False</td>\n",
       "      <td>False</td>\n",
       "      <td>False</td>\n",
       "    </tr>\n",
       "    <tr>\n",
       "      <th>2</th>\n",
       "      <td>b'free_speaker(void)\\n{\\n   if(Lengths)\\n     ...</td>\n",
       "      <td>False</td>\n",
       "      <td>False</td>\n",
       "      <td>False</td>\n",
       "      <td>False</td>\n",
       "      <td>False</td>\n",
       "    </tr>\n",
       "    <tr>\n",
       "      <th>3</th>\n",
       "      <td>b'mlx4_register_device(struct mlx4_dev *dev)\\n...</td>\n",
       "      <td>False</td>\n",
       "      <td>False</td>\n",
       "      <td>False</td>\n",
       "      <td>False</td>\n",
       "      <td>False</td>\n",
       "    </tr>\n",
       "    <tr>\n",
       "      <th>4</th>\n",
       "      <td>b'Parse_Env_Var(void)\\n{\\n  char *p = getenv(\"...</td>\n",
       "      <td>True</td>\n",
       "      <td>True</td>\n",
       "      <td>False</td>\n",
       "      <td>False</td>\n",
       "      <td>True</td>\n",
       "    </tr>\n",
       "  </tbody>\n",
       "</table>\n",
       "</div>"
      ],
      "text/plain": [
       "                                      functionSource  CWE-119  CWE-120  \\\n",
       "0  b'clear_area(int startx, int starty, int xsize...    False    False   \n",
       "1  b'ReconstructDuList(Statement* head)\\n{\\n    S...    False    False   \n",
       "2  b'free_speaker(void)\\n{\\n   if(Lengths)\\n     ...    False    False   \n",
       "3  b'mlx4_register_device(struct mlx4_dev *dev)\\n...    False    False   \n",
       "4  b'Parse_Env_Var(void)\\n{\\n  char *p = getenv(\"...     True     True   \n",
       "\n",
       "   CWE-469  CWE-476  CWE-other  \n",
       "0    False    False      False  \n",
       "1    False    False      False  \n",
       "2    False    False      False  \n",
       "3    False    False      False  \n",
       "4    False    False       True  "
      ]
     },
     "execution_count": 19,
     "metadata": {},
     "output_type": "execute_result"
    }
   ],
   "source": [
    "data_frame.iloc[0:5,0:]"
   ]
  },
  {
   "cell_type": "code",
   "execution_count": 20,
   "id": "206bc7ae",
   "metadata": {
    "slideshow": {
     "slide_type": "-"
    }
   },
   "outputs": [],
   "source": [
    "data_frame.to_pickle(\"VDISC_train.pickle\")\n",
    "data_frame.to_pickle(\"VDISC_validate.pickle\")\n",
    "data_frame.to_pickle(\"VDISC_test.pickle\")"
   ]
  },
  {
   "cell_type": "markdown",
   "id": "e63123da",
   "metadata": {
    "slideshow": {
     "slide_type": "-"
    }
   },
   "source": [
    "## Exploratory Data Analysis"
   ]
  },
  {
   "cell_type": "markdown",
   "id": "b2c10528",
   "metadata": {},
   "source": [
    "## Learning Phase"
   ]
  },
  {
   "cell_type": "markdown",
   "id": "22ccc8e0",
   "metadata": {},
   "source": [
    "### Importing libraries"
   ]
  },
  {
   "cell_type": "code",
   "execution_count": 2,
   "id": "740bda2e",
   "metadata": {},
   "outputs": [],
   "source": [
    "import tensorflow as tf\n"
   ]
  },
  {
   "cell_type": "code",
   "execution_count": 3,
   "id": "1c0c4902",
   "metadata": {
    "scrolled": true
   },
   "outputs": [
    {
     "name": "stdout",
     "output_type": "stream",
     "text": [
      "Tensorlfow version:  2.6.0\n",
      "Eager mode:  True\n",
      "GPU is NOT AVAILABLE\n"
     ]
    }
   ],
   "source": [
    "import numpy as np\n",
    "import pandas as pd\n",
    "import matplotlib.pyplot as plt\n",
    "import sklearn.metrics\n",
    "from sklearn.utils import class_weight\n",
    "import pickle\n",
    "from sklearn.metrics import ConfusionMatrixDisplay\n",
    "import math\n",
    "\n",
    "print(\"Tensorlfow version: \", tf.__version__)\n",
    "print(\"Eager mode: \", tf.executing_eagerly())\n",
    "print(\"GPU is\", \"available\" if tf.config.list_physical_devices('GPU') else \"NOT AVAILABLE\")"
   ]
  },
  {
   "cell_type": "markdown",
   "id": "3313058a",
   "metadata": {},
   "source": [
    "### Setting global variable"
   ]
  },
  {
   "cell_type": "code",
   "execution_count": 7,
   "id": "a7a0c373",
   "metadata": {},
   "outputs": [],
   "source": [
    "# Set the global value\n",
    "WORDS_SIZE=10000\n",
    "INPUT_SIZE=500\n",
    "NUM_CLASSES=2\n",
    "MODEL_NUM=0\n",
    "EPOCHS=40"
   ]
  },
  {
   "cell_type": "markdown",
   "id": "6cc683cc",
   "metadata": {
    "slideshow": {
     "slide_type": "slide"
    }
   },
   "source": [
    "### Importing processed datasets"
   ]
  },
  {
   "cell_type": "code",
   "execution_count": 8,
   "id": "58a1aee3",
   "metadata": {
    "slideshow": {
     "slide_type": "fragment"
    }
   },
   "outputs": [],
   "source": [
    "train=pd.read_pickle(\"VDISC_train.pickle\")\n",
    "validate=pd.read_pickle(\"VDISC_validate.pickle\")\n",
    "test=pd.read_pickle(\"VDISC_test.pickle\")\n",
    "for dataset in [train,validate,test]:\n",
    "    for col in range(1,6):\n",
    "        dataset.iloc[:,col] = dataset.iloc[:,col].map({False: 0, True: 1})\n",
    "\n",
    "# Create source code sdata for tokenization\n",
    "x_all = train['functionSource']\n",
    "#x_all = x_all.append(validate['functionSource'])\n",
    "#x_all = x_all.append(test['functionSource'])"
   ]
  },
  {
   "cell_type": "code",
   "execution_count": 9,
   "id": "6bde0156",
   "metadata": {
    "slideshow": {
     "slide_type": "fragment"
    }
   },
   "outputs": [
    {
     "data": {
      "text/html": [
       "<div>\n",
       "<style scoped>\n",
       "    .dataframe tbody tr th:only-of-type {\n",
       "        vertical-align: middle;\n",
       "    }\n",
       "\n",
       "    .dataframe tbody tr th {\n",
       "        vertical-align: top;\n",
       "    }\n",
       "\n",
       "    .dataframe thead th {\n",
       "        text-align: right;\n",
       "    }\n",
       "</style>\n",
       "<table border=\"1\" class=\"dataframe\">\n",
       "  <thead>\n",
       "    <tr style=\"text-align: right;\">\n",
       "      <th></th>\n",
       "      <th>functionSource</th>\n",
       "      <th>CWE-119</th>\n",
       "      <th>CWE-120</th>\n",
       "      <th>CWE-469</th>\n",
       "      <th>CWE-476</th>\n",
       "      <th>CWE-other</th>\n",
       "    </tr>\n",
       "  </thead>\n",
       "  <tbody>\n",
       "    <tr>\n",
       "      <th>0</th>\n",
       "      <td>b'clear_area(int startx, int starty, int xsize...</td>\n",
       "      <td>0</td>\n",
       "      <td>0</td>\n",
       "      <td>0</td>\n",
       "      <td>0</td>\n",
       "      <td>0</td>\n",
       "    </tr>\n",
       "    <tr>\n",
       "      <th>1</th>\n",
       "      <td>b'ReconstructDuList(Statement* head)\\n{\\n    S...</td>\n",
       "      <td>0</td>\n",
       "      <td>0</td>\n",
       "      <td>0</td>\n",
       "      <td>0</td>\n",
       "      <td>0</td>\n",
       "    </tr>\n",
       "    <tr>\n",
       "      <th>2</th>\n",
       "      <td>b'free_speaker(void)\\n{\\n   if(Lengths)\\n     ...</td>\n",
       "      <td>0</td>\n",
       "      <td>0</td>\n",
       "      <td>0</td>\n",
       "      <td>0</td>\n",
       "      <td>0</td>\n",
       "    </tr>\n",
       "    <tr>\n",
       "      <th>3</th>\n",
       "      <td>b'mlx4_register_device(struct mlx4_dev *dev)\\n...</td>\n",
       "      <td>0</td>\n",
       "      <td>0</td>\n",
       "      <td>0</td>\n",
       "      <td>0</td>\n",
       "      <td>0</td>\n",
       "    </tr>\n",
       "    <tr>\n",
       "      <th>4</th>\n",
       "      <td>b'Parse_Env_Var(void)\\n{\\n  char *p = getenv(\"...</td>\n",
       "      <td>1</td>\n",
       "      <td>1</td>\n",
       "      <td>0</td>\n",
       "      <td>0</td>\n",
       "      <td>1</td>\n",
       "    </tr>\n",
       "  </tbody>\n",
       "</table>\n",
       "</div>"
      ],
      "text/plain": [
       "                                      functionSource  CWE-119  CWE-120  \\\n",
       "0  b'clear_area(int startx, int starty, int xsize...        0        0   \n",
       "1  b'ReconstructDuList(Statement* head)\\n{\\n    S...        0        0   \n",
       "2  b'free_speaker(void)\\n{\\n   if(Lengths)\\n     ...        0        0   \n",
       "3  b'mlx4_register_device(struct mlx4_dev *dev)\\n...        0        0   \n",
       "4  b'Parse_Env_Var(void)\\n{\\n  char *p = getenv(\"...        1        1   \n",
       "\n",
       "   CWE-469  CWE-476  CWE-other  \n",
       "0        0        0          0  \n",
       "1        0        0          0  \n",
       "2        0        0          0  \n",
       "3        0        0          0  \n",
       "4        0        0          1  "
      ]
     },
     "execution_count": 9,
     "metadata": {},
     "output_type": "execute_result"
    }
   ],
   "source": [
    "# Overview of the datasets\n",
    "train.head()"
   ]
  },
  {
   "cell_type": "markdown",
   "id": "f39b6f32",
   "metadata": {
    "slideshow": {
     "slide_type": "slide"
    }
   },
   "source": [
    "### Tokenizing the source codes"
   ]
  },
  {
   "cell_type": "markdown",
   "id": "d5770105",
   "metadata": {},
   "source": [
    "Tokenization is essentially splitting a phrase, sentence, paragraph, or an entire text document into smaller units, such as individual words or terms. Each of these smaller units are called tokens."
   ]
  },
  {
   "cell_type": "code",
   "execution_count": 10,
   "id": "9696f331",
   "metadata": {
    "slideshow": {
     "slide_type": "fragment"
    }
   },
   "outputs": [
    {
     "name": "stdout",
     "output_type": "stream",
     "text": [
      "Number of tokens:  1094129\n"
     ]
    }
   ],
   "source": [
    "# Tokenizer with word-level\n",
    "tokenizer = tf.keras.preprocessing.text.Tokenizer(char_level=False)\n",
    "#tokenizer.fit_on_texts(list(x_all))\n",
    "tokenizer.fit_on_texts([x.decode('utf-8') for x in list(x_all)])\n",
    "del(x_all)\n",
    "print('Number of tokens: ',len(tokenizer.word_counts))\n"
   ]
  },
  {
   "cell_type": "code",
   "execution_count": 11,
   "id": "9aed60b3",
   "metadata": {
    "slideshow": {
     "slide_type": "fragment"
    }
   },
   "outputs": [],
   "source": [
    "# Reducing to top N words\n",
    "tokenizer.num_words = WORDS_SIZE"
   ]
  },
  {
   "cell_type": "code",
   "execution_count": 12,
   "id": "100d1f43",
   "metadata": {
    "slideshow": {
     "slide_type": "fragment"
    }
   },
   "outputs": [
    {
     "data": {
      "text/plain": [
       "[('if', 3126441),\n",
       " ('0', 2106459),\n",
       " ('return', 1745333),\n",
       " ('i', 1375259),\n",
       " ('1', 1186857),\n",
       " ('int', 1016932),\n",
       " ('null', 975347),\n",
       " ('the', 791897),\n",
       " ('t', 733766),\n",
       " ('n', 716010)]"
      ]
     },
     "execution_count": 12,
     "metadata": {},
     "output_type": "execute_result"
    }
   ],
   "source": [
    "# Top 10 words\n",
    "sorted(tokenizer.word_counts.items(), key=lambda x:x[1], reverse=True)[0:10]"
   ]
  },
  {
   "cell_type": "markdown",
   "id": "95b9d7a6",
   "metadata": {
    "slideshow": {
     "slide_type": "slide"
    }
   },
   "source": [
    "### Create sequence files from the tokens"
   ]
  },
  {
   "cell_type": "code",
   "execution_count": 13,
   "id": "5ab5081b",
   "metadata": {
    "slideshow": {
     "slide_type": "fragment"
    }
   },
   "outputs": [],
   "source": [
    "## Tokkenizing train data and create matrix\n",
    "# list_tokenized_train = tokenizer.texts_to_sequences(train['functionSource'])\n",
    "list_tokenized_train = tokenizer.texts_to_sequences([x.decode('utf-8') for x in train['functionSource']])\n",
    "x_train = tf.keras.preprocessing.sequence.pad_sequences(list_tokenized_train, \n",
    "                                  maxlen=INPUT_SIZE,\n",
    "                                  padding='post')\n",
    "x_train = x_train.astype(np.int64)"
   ]
  },
  {
   "cell_type": "code",
   "execution_count": 14,
   "id": "fb77e05e",
   "metadata": {
    "slideshow": {
     "slide_type": "fragment"
    }
   },
   "outputs": [],
   "source": [
    "## Tokkenizing test data and create matrix\n",
    "list_tokenized_test = tokenizer.texts_to_sequences([x.decode('utf-8') for x in test['functionSource']])\n",
    "x_test = tf.keras.preprocessing.sequence.pad_sequences(list_tokenized_test, \n",
    "                                 maxlen=INPUT_SIZE,\n",
    "                                 padding='post')\n",
    "x_test = x_test.astype(np.int64)"
   ]
  },
  {
   "cell_type": "code",
   "execution_count": 15,
   "id": "41736cf1",
   "metadata": {
    "slideshow": {
     "slide_type": "fragment"
    }
   },
   "outputs": [],
   "source": [
    "## Tokkenizing validate data and create matrix\n",
    "list_tokenized_validate = tokenizer.texts_to_sequences([x.decode('utf-8') for x in validate['functionSource']])\n",
    "x_validate = tf.keras.preprocessing.sequence.pad_sequences(list_tokenized_validate, \n",
    "                                 maxlen=INPUT_SIZE,\n",
    "                                 padding='post')\n",
    "x_validate = x_validate.astype(np.int64)"
   ]
  },
  {
   "cell_type": "code",
   "execution_count": 16,
   "id": "ef19b04f",
   "metadata": {
    "slideshow": {
     "slide_type": "fragment"
    }
   },
   "outputs": [
    {
     "data": {
      "text/html": [
       "<div>\n",
       "<style scoped>\n",
       "    .dataframe tbody tr th:only-of-type {\n",
       "        vertical-align: middle;\n",
       "    }\n",
       "\n",
       "    .dataframe tbody tr th {\n",
       "        vertical-align: top;\n",
       "    }\n",
       "\n",
       "    .dataframe thead th {\n",
       "        text-align: right;\n",
       "    }\n",
       "</style>\n",
       "<table border=\"1\" class=\"dataframe\">\n",
       "  <thead>\n",
       "    <tr style=\"text-align: right;\">\n",
       "      <th></th>\n",
       "      <th>CWE-119</th>\n",
       "      <th>CWE-120</th>\n",
       "      <th>CWE-469</th>\n",
       "      <th>CWE-476</th>\n",
       "      <th>CWE-other</th>\n",
       "    </tr>\n",
       "  </thead>\n",
       "  <tbody>\n",
       "    <tr>\n",
       "      <th>0</th>\n",
       "      <td>0</td>\n",
       "      <td>0</td>\n",
       "      <td>0</td>\n",
       "      <td>0</td>\n",
       "      <td>0</td>\n",
       "    </tr>\n",
       "    <tr>\n",
       "      <th>1</th>\n",
       "      <td>0</td>\n",
       "      <td>0</td>\n",
       "      <td>0</td>\n",
       "      <td>0</td>\n",
       "      <td>0</td>\n",
       "    </tr>\n",
       "    <tr>\n",
       "      <th>2</th>\n",
       "      <td>0</td>\n",
       "      <td>0</td>\n",
       "      <td>0</td>\n",
       "      <td>0</td>\n",
       "      <td>0</td>\n",
       "    </tr>\n",
       "    <tr>\n",
       "      <th>3</th>\n",
       "      <td>0</td>\n",
       "      <td>0</td>\n",
       "      <td>0</td>\n",
       "      <td>0</td>\n",
       "      <td>0</td>\n",
       "    </tr>\n",
       "    <tr>\n",
       "      <th>4</th>\n",
       "      <td>1</td>\n",
       "      <td>1</td>\n",
       "      <td>0</td>\n",
       "      <td>0</td>\n",
       "      <td>1</td>\n",
       "    </tr>\n",
       "  </tbody>\n",
       "</table>\n",
       "</div>"
      ],
      "text/plain": [
       "   CWE-119  CWE-120  CWE-469  CWE-476  CWE-other\n",
       "0        0        0        0        0          0\n",
       "1        0        0        0        0          0\n",
       "2        0        0        0        0          0\n",
       "3        0        0        0        0          0\n",
       "4        1        1        0        0          1"
      ]
     },
     "execution_count": 16,
     "metadata": {},
     "output_type": "execute_result"
    }
   ],
   "source": [
    "# Example data\n",
    "test.iloc[0:5,1:6]"
   ]
  },
  {
   "cell_type": "markdown",
   "id": "f594c18a",
   "metadata": {
    "slideshow": {
     "slide_type": "slide"
    }
   },
   "source": [
    "### One-Hot-Enconding (OHE) on the datasets\n",
    "\n",
    "For categorical variables where no such ordinal relationship exists, the integer encoding is not enough.\n",
    "\n",
    "In fact, using this encoding and allowing the model to assume a natural ordering between categories may result in poor performance or unexpected results (predictions halfway between categories).\n",
    "\n",
    "In this case, a one-hot encoding can be applied to the integer representation. This is where the integer encoded variable is removed and a new binary variable is added for each unique integer value."
   ]
  },
  {
   "cell_type": "code",
   "execution_count": 17,
   "id": "24bfaf84",
   "metadata": {
    "slideshow": {
     "slide_type": "fragment"
    }
   },
   "outputs": [],
   "source": [
    "y_train=[]\n",
    "y_test=[] \n",
    "y_validate=[]\n",
    "\n",
    "for col in range(1,6):\n",
    "    y_train.append(tf.keras.utils.to_categorical(train.iloc[:,col], num_classes=NUM_CLASSES).astype(np.int64))\n",
    "    y_test.append(tf.keras.utils.to_categorical(test.iloc[:,col], num_classes=NUM_CLASSES).astype(np.int64))\n",
    "    y_validate.append(tf.keras.utils.to_categorical(validate.iloc[:,col], num_classes=NUM_CLASSES).astype(np.int64))"
   ]
  },
  {
   "cell_type": "markdown",
   "id": "874acae1",
   "metadata": {
    "slideshow": {
     "slide_type": "slide"
    }
   },
   "source": [
    "### Model Definition (CNN with Gaussian Noise and 5 Output Splits)\n"
   ]
  },
  {
   "cell_type": "code",
   "execution_count": 19,
   "id": "71d2e62b",
   "metadata": {
    "slideshow": {
     "slide_type": "fragment"
    }
   },
   "outputs": [],
   "source": [
    "# Create a random weights matrix\n",
    "random_weights = np.random.normal(size=(WORDS_SIZE, 13),scale=0.01)"
   ]
  },
  {
   "cell_type": "markdown",
   "id": "22799ce4",
   "metadata": {},
   "source": [
    "## Layers\n",
    "\n",
    "#### Embedding\n",
    "Embedding layer that can be used for neural networks on text data. \n",
    "It requires that the input data be integer encoded, so that each word is represented by a unique integer. This data preparation step can be performed using the Tokenizer API also provided with Keras.\n",
    "The Embedding layer is initialized with random weights and will learn an embedding for all of the words in the training dataset.\n",
    "\n",
    "#### 1D convolution layer\n",
    "This layer creates a convolution kernel that is convolved with the layer input over a single spatial (or temporal) dimension to produce a tensor of outputs. If use_bias is True, a bias vector is created and added to the outputs. \n",
    "\n",
    "#### Maxpool1d\n",
    "Applies a 1D max pooling over an input signal composed of several input planes. If padding is non-zero, then the input is implicitly padded with negative infinity on both sides for padding number of points. dilation is the stride between the elements within the sliding window. \n",
    "\n",
    "#### Dense\n",
    "Dense implements the operation: output = activation(dot(input, kernel) + bias) where activation is the element-wise activation function passed as the activation argument, kernel is a weights matrix created by the layer, and bias is a bias vector created by the layer\n",
    "\n",
    "### Model Compile\n",
    "#### optimizer : Aadm\n",
    "Adam optimization is a stochastic gradient descent method that is based on adaptive estimation of first-order and second-order moments. The method is \"computationally efficient, has little memory requirement, invariant to diagonal rescaling of gradients, and is well suited for problems that are large in terms of data/parameters\".\n",
    "\n",
    "#### loss: categorical_crossentropy\n",
    "Used as a loss function for multi-class classification model where there are two or more output labels. The output label is assigned one-hot category encoding value in form of 0s and 1."
   ]
  },
  {
   "cell_type": "code",
   "execution_count": 24,
   "id": "9dac6bb5",
   "metadata": {
    "scrolled": false,
    "slideshow": {
     "slide_type": "fragment"
    }
   },
   "outputs": [
    {
     "name": "stdout",
     "output_type": "stream",
     "text": [
      "CNN model built: \n",
      "Model: \"model_3\"\n",
      "__________________________________________________________________________________________________\n",
      "Layer (type)                    Output Shape         Param #     Connected to                     \n",
      "==================================================================================================\n",
      "input_7 (InputLayer)            [(None, 500)]        0                                            \n",
      "__________________________________________________________________________________________________\n",
      "embedding_4 (Embedding)         (None, 500, 13)      130000      input_7[0][0]                    \n",
      "__________________________________________________________________________________________________\n",
      "conv1d_3 (Conv1D)               (None, 500, 512)     60416       embedding_4[0][0]                \n",
      "__________________________________________________________________________________________________\n",
      "max_pooling1d_3 (MaxPooling1D)  (None, 100, 512)     0           conv1d_3[0][0]                   \n",
      "__________________________________________________________________________________________________\n",
      "dropout_3 (Dropout)             (None, 100, 512)     0           max_pooling1d_3[0][0]            \n",
      "__________________________________________________________________________________________________\n",
      "flatten_4 (Flatten)             (None, 51200)        0           dropout_3[0][0]                  \n",
      "__________________________________________________________________________________________________\n",
      "dense_18 (Dense)                (None, 128)          6553728     flatten_4[0][0]                  \n",
      "__________________________________________________________________________________________________\n",
      "dense_19 (Dense)                (None, 2)            258         dense_18[0][0]                   \n",
      "__________________________________________________________________________________________________\n",
      "dense_20 (Dense)                (None, 2)            258         dense_18[0][0]                   \n",
      "__________________________________________________________________________________________________\n",
      "dense_21 (Dense)                (None, 2)            258         dense_18[0][0]                   \n",
      "__________________________________________________________________________________________________\n",
      "dense_22 (Dense)                (None, 2)            258         dense_18[0][0]                   \n",
      "__________________________________________________________________________________________________\n",
      "dense_23 (Dense)                (None, 2)            258         dense_18[0][0]                   \n",
      "==================================================================================================\n",
      "Total params: 6,745,434\n",
      "Trainable params: 6,745,434\n",
      "Non-trainable params: 0\n",
      "__________________________________________________________________________________________________\n"
     ]
    }
   ],
   "source": [
    "# Must use non-sequential model building to create branches in the output layer\n",
    "with tf.device('cpu:0'):\n",
    "    inp_layer = tf.keras.layers.Input(shape=(INPUT_SIZE,))\n",
    "    mid_layers = tf.keras.layers.Embedding(input_dim = WORDS_SIZE,\n",
    "                                        output_dim = 13,\n",
    "                                        weights=[random_weights],\n",
    "                                        input_length = INPUT_SIZE)(inp_layer)\n",
    "    mid_layers = tf.keras.layers.Convolution1D(filters=512, kernel_size=(9), padding='same', activation='relu')(mid_layers)\n",
    "    mid_layers = tf.keras.layers.MaxPool1D(pool_size=5)(mid_layers)\n",
    "    mid_layers = tf.keras.layers.Dropout(0.5)(mid_layers)\n",
    "    mid_layers = tf.keras.layers.Flatten()(mid_layers)\n",
    "    mid_layers = tf.keras.layers.Dense(128, activation='relu')(mid_layers)\n",
    "    output1 = tf.keras.layers.Dense(2, activation='softmax')(mid_layers)\n",
    "    output2 = tf.keras.layers.Dense(2, activation='softmax')(mid_layers)\n",
    "    output3 = tf.keras.layers.Dense(2, activation='softmax')(mid_layers)\n",
    "    output4 =tf.keras.layers.Dense(2, activation='softmax')(mid_layers)\n",
    "    output5 = tf.keras.layers.Dense(2, activation='softmax')(mid_layers)\n",
    "    model = tf.keras.Model(inp_layer,[output1,output2,output3,output4,output5])\n",
    "\n",
    "    # Define custom optimizers\n",
    "    adam = tf.keras.optimizers.Adam(lr=0.005, beta_1=0.9, beta_2=0.999, epsilon=1, decay=0.0, amsgrad=False)\n",
    "\n",
    "    ## Compile model with metrics\n",
    "    model.compile(optimizer=adam, loss='categorical_crossentropy', metrics=['accuracy'])\n",
    "    print(\"CNN model built: \")\n",
    "    model.summary()"
   ]
  },
  {
   "cell_type": "markdown",
   "id": "848f6559",
   "metadata": {},
   "source": [
    "### Model Training"
   ]
  },
  {
   "cell_type": "code",
   "execution_count": 25,
   "id": "9091de93",
   "metadata": {
    "scrolled": false
   },
   "outputs": [
    {
     "name": "stderr",
     "output_type": "stream",
     "text": [
      "2021-10-18 13:29:19.462332: I tensorflow/compiler/mlir/mlir_graph_optimization_pass.cc:185] None of the MLIR Optimization Passes are enabled (registered 2)\n"
     ]
    },
    {
     "name": "stdout",
     "output_type": "stream",
     "text": [
      "Epoch 1/40\n",
      "782/782 - 266s - loss: 0.9672 - dense_19_loss: 0.1945 - dense_20_loss: 0.2458 - dense_21_loss: 0.1332 - dense_22_loss: 0.1735 - dense_23_loss: 0.2202 - dense_19_accuracy: 0.9759 - dense_20_accuracy: 0.9512 - dense_21_accuracy: 0.9961 - dense_22_accuracy: 0.9865 - dense_23_accuracy: 0.9721 - val_loss: 0.4361 - val_dense_19_loss: 0.0906 - val_dense_20_loss: 0.1527 - val_dense_21_loss: 0.0150 - val_dense_22_loss: 0.0530 - val_dense_23_loss: 0.1247 - val_dense_19_accuracy: 0.9813 - val_dense_20_accuracy: 0.9636 - val_dense_21_accuracy: 0.9979 - val_dense_22_accuracy: 0.9905 - val_dense_23_accuracy: 0.9722\n",
      "\n",
      "Epoch 00001: val_loss improved from inf to 0.43612, saving model to model/model-ALL-01.hdf5\n",
      "Epoch 2/40\n",
      "782/782 - 263s - loss: 0.4353 - dense_19_loss: 0.0905 - dense_20_loss: 0.1524 - dense_21_loss: 0.0149 - dense_22_loss: 0.0531 - dense_23_loss: 0.1245 - dense_19_accuracy: 0.9813 - dense_20_accuracy: 0.9636 - dense_21_accuracy: 0.9979 - dense_22_accuracy: 0.9905 - dense_23_accuracy: 0.9722 - val_loss: 0.4341 - val_dense_19_loss: 0.0902 - val_dense_20_loss: 0.1518 - val_dense_21_loss: 0.0148 - val_dense_22_loss: 0.0530 - val_dense_23_loss: 0.1242 - val_dense_19_accuracy: 0.9813 - val_dense_20_accuracy: 0.9636 - val_dense_21_accuracy: 0.9979 - val_dense_22_accuracy: 0.9905 - val_dense_23_accuracy: 0.9722\n",
      "\n",
      "Epoch 00002: val_loss improved from 0.43612 to 0.43407, saving model to model/model-ALL-02.hdf5\n",
      "Epoch 3/40\n",
      "782/782 - 263s - loss: 0.4341 - dense_19_loss: 0.0902 - dense_20_loss: 0.1518 - dense_21_loss: 0.0148 - dense_22_loss: 0.0530 - dense_23_loss: 0.1242 - dense_19_accuracy: 0.9813 - dense_20_accuracy: 0.9636 - dense_21_accuracy: 0.9979 - dense_22_accuracy: 0.9905 - dense_23_accuracy: 0.9722 - val_loss: 0.4330 - val_dense_19_loss: 0.0900 - val_dense_20_loss: 0.1513 - val_dense_21_loss: 0.0148 - val_dense_22_loss: 0.0530 - val_dense_23_loss: 0.1239 - val_dense_19_accuracy: 0.9813 - val_dense_20_accuracy: 0.9636 - val_dense_21_accuracy: 0.9979 - val_dense_22_accuracy: 0.9905 - val_dense_23_accuracy: 0.9722\n",
      "\n",
      "Epoch 00003: val_loss improved from 0.43407 to 0.43296, saving model to model/model-ALL-03.hdf5\n",
      "Epoch 4/40\n",
      "782/782 - 274s - loss: 0.4329 - dense_19_loss: 0.0899 - dense_20_loss: 0.1511 - dense_21_loss: 0.0148 - dense_22_loss: 0.0532 - dense_23_loss: 0.1239 - dense_19_accuracy: 0.9813 - dense_20_accuracy: 0.9636 - dense_21_accuracy: 0.9979 - dense_22_accuracy: 0.9905 - dense_23_accuracy: 0.9722 - val_loss: 0.4321 - val_dense_19_loss: 0.0896 - val_dense_20_loss: 0.1509 - val_dense_21_loss: 0.0148 - val_dense_22_loss: 0.0530 - val_dense_23_loss: 0.1237 - val_dense_19_accuracy: 0.9813 - val_dense_20_accuracy: 0.9636 - val_dense_21_accuracy: 0.9979 - val_dense_22_accuracy: 0.9905 - val_dense_23_accuracy: 0.9722\n",
      "\n",
      "Epoch 00004: val_loss improved from 0.43296 to 0.43210, saving model to model/model-ALL-04.hdf5\n",
      "Epoch 5/40\n",
      "782/782 - 262s - loss: 0.4324 - dense_19_loss: 0.0897 - dense_20_loss: 0.1510 - dense_21_loss: 0.0148 - dense_22_loss: 0.0531 - dense_23_loss: 0.1238 - dense_19_accuracy: 0.9813 - dense_20_accuracy: 0.9636 - dense_21_accuracy: 0.9979 - dense_22_accuracy: 0.9905 - dense_23_accuracy: 0.9722 - val_loss: 0.4314 - val_dense_19_loss: 0.0895 - val_dense_20_loss: 0.1507 - val_dense_21_loss: 0.0148 - val_dense_22_loss: 0.0530 - val_dense_23_loss: 0.1235 - val_dense_19_accuracy: 0.9813 - val_dense_20_accuracy: 0.9636 - val_dense_21_accuracy: 0.9979 - val_dense_22_accuracy: 0.9905 - val_dense_23_accuracy: 0.9722\n",
      "\n",
      "Epoch 00005: val_loss improved from 0.43210 to 0.43136, saving model to model/model-ALL-05.hdf5\n",
      "Epoch 6/40\n",
      "782/782 - 262s - loss: 0.4318 - dense_19_loss: 0.0896 - dense_20_loss: 0.1508 - dense_21_loss: 0.0148 - dense_22_loss: 0.0530 - dense_23_loss: 0.1236 - dense_19_accuracy: 0.9813 - dense_20_accuracy: 0.9636 - dense_21_accuracy: 0.9979 - dense_22_accuracy: 0.9905 - dense_23_accuracy: 0.9722 - val_loss: 0.4309 - val_dense_19_loss: 0.0893 - val_dense_20_loss: 0.1504 - val_dense_21_loss: 0.0148 - val_dense_22_loss: 0.0530 - val_dense_23_loss: 0.1233 - val_dense_19_accuracy: 0.9813 - val_dense_20_accuracy: 0.9636 - val_dense_21_accuracy: 0.9979 - val_dense_22_accuracy: 0.9905 - val_dense_23_accuracy: 0.9722\n",
      "\n",
      "Epoch 00006: val_loss improved from 0.43136 to 0.43085, saving model to model/model-ALL-06.hdf5\n",
      "Epoch 7/40\n",
      "782/782 - 262s - loss: 0.4314 - dense_19_loss: 0.0895 - dense_20_loss: 0.1505 - dense_21_loss: 0.0148 - dense_22_loss: 0.0530 - dense_23_loss: 0.1235 - dense_19_accuracy: 0.9813 - dense_20_accuracy: 0.9636 - dense_21_accuracy: 0.9979 - dense_22_accuracy: 0.9905 - dense_23_accuracy: 0.9722 - val_loss: 0.4304 - val_dense_19_loss: 0.0892 - val_dense_20_loss: 0.1503 - val_dense_21_loss: 0.0148 - val_dense_22_loss: 0.0530 - val_dense_23_loss: 0.1232 - val_dense_19_accuracy: 0.9813 - val_dense_20_accuracy: 0.9636 - val_dense_21_accuracy: 0.9979 - val_dense_22_accuracy: 0.9905 - val_dense_23_accuracy: 0.9722\n",
      "\n",
      "Epoch 00007: val_loss improved from 0.43085 to 0.43044, saving model to model/model-ALL-07.hdf5\n",
      "Epoch 8/40\n",
      "782/782 - 262s - loss: 0.4312 - dense_19_loss: 0.0894 - dense_20_loss: 0.1505 - dense_21_loss: 0.0148 - dense_22_loss: 0.0530 - dense_23_loss: 0.1234 - dense_19_accuracy: 0.9813 - dense_20_accuracy: 0.9636 - dense_21_accuracy: 0.9979 - dense_22_accuracy: 0.9905 - dense_23_accuracy: 0.9722 - val_loss: 0.4302 - val_dense_19_loss: 0.0892 - val_dense_20_loss: 0.1502 - val_dense_21_loss: 0.0148 - val_dense_22_loss: 0.0529 - val_dense_23_loss: 0.1232 - val_dense_19_accuracy: 0.9813 - val_dense_20_accuracy: 0.9636 - val_dense_21_accuracy: 0.9979 - val_dense_22_accuracy: 0.9905 - val_dense_23_accuracy: 0.9722\n",
      "\n",
      "Epoch 00008: val_loss improved from 0.43044 to 0.43020, saving model to model/model-ALL-08.hdf5\n",
      "Epoch 9/40\n",
      "782/782 - 261s - loss: 0.4306 - dense_19_loss: 0.0893 - dense_20_loss: 0.1504 - dense_21_loss: 0.0148 - dense_22_loss: 0.0529 - dense_23_loss: 0.1233 - dense_19_accuracy: 0.9813 - dense_20_accuracy: 0.9636 - dense_21_accuracy: 0.9979 - dense_22_accuracy: 0.9905 - dense_23_accuracy: 0.9722 - val_loss: 0.4299 - val_dense_19_loss: 0.0891 - val_dense_20_loss: 0.1500 - val_dense_21_loss: 0.0148 - val_dense_22_loss: 0.0529 - val_dense_23_loss: 0.1231 - val_dense_19_accuracy: 0.9813 - val_dense_20_accuracy: 0.9636 - val_dense_21_accuracy: 0.9979 - val_dense_22_accuracy: 0.9905 - val_dense_23_accuracy: 0.9722\n",
      "\n",
      "Epoch 00009: val_loss improved from 0.43020 to 0.42991, saving model to model/model-ALL-09.hdf5\n",
      "Epoch 10/40\n",
      "782/782 - 261s - loss: 0.4305 - dense_19_loss: 0.0892 - dense_20_loss: 0.1503 - dense_21_loss: 0.0148 - dense_22_loss: 0.0529 - dense_23_loss: 0.1232 - dense_19_accuracy: 0.9813 - dense_20_accuracy: 0.9636 - dense_21_accuracy: 0.9979 - dense_22_accuracy: 0.9905 - dense_23_accuracy: 0.9722 - val_loss: 0.4299 - val_dense_19_loss: 0.0891 - val_dense_20_loss: 0.1502 - val_dense_21_loss: 0.0147 - val_dense_22_loss: 0.0529 - val_dense_23_loss: 0.1230 - val_dense_19_accuracy: 0.9813 - val_dense_20_accuracy: 0.9636 - val_dense_21_accuracy: 0.9979 - val_dense_22_accuracy: 0.9905 - val_dense_23_accuracy: 0.9722\n",
      "\n",
      "Epoch 00010: val_loss improved from 0.42991 to 0.42990, saving model to model/model-ALL-10.hdf5\n",
      "Epoch 11/40\n",
      "782/782 - 261s - loss: 0.4300 - dense_19_loss: 0.0891 - dense_20_loss: 0.1501 - dense_21_loss: 0.0147 - dense_22_loss: 0.0529 - dense_23_loss: 0.1231 - dense_19_accuracy: 0.9813 - dense_20_accuracy: 0.9636 - dense_21_accuracy: 0.9979 - dense_22_accuracy: 0.9905 - dense_23_accuracy: 0.9722 - val_loss: 0.4298 - val_dense_19_loss: 0.0892 - val_dense_20_loss: 0.1500 - val_dense_21_loss: 0.0147 - val_dense_22_loss: 0.0529 - val_dense_23_loss: 0.1230 - val_dense_19_accuracy: 0.9813 - val_dense_20_accuracy: 0.9636 - val_dense_21_accuracy: 0.9979 - val_dense_22_accuracy: 0.9905 - val_dense_23_accuracy: 0.9722\n",
      "\n",
      "Epoch 00011: val_loss improved from 0.42990 to 0.42984, saving model to model/model-ALL-11.hdf5\n",
      "Epoch 12/40\n",
      "782/782 - 262s - loss: 0.4298 - dense_19_loss: 0.0891 - dense_20_loss: 0.1501 - dense_21_loss: 0.0147 - dense_22_loss: 0.0529 - dense_23_loss: 0.1230 - dense_19_accuracy: 0.9813 - dense_20_accuracy: 0.9636 - dense_21_accuracy: 0.9979 - dense_22_accuracy: 0.9905 - dense_23_accuracy: 0.9722 - val_loss: 0.4291 - val_dense_19_loss: 0.0889 - val_dense_20_loss: 0.1498 - val_dense_21_loss: 0.0147 - val_dense_22_loss: 0.0529 - val_dense_23_loss: 0.1229 - val_dense_19_accuracy: 0.9813 - val_dense_20_accuracy: 0.9636 - val_dense_21_accuracy: 0.9979 - val_dense_22_accuracy: 0.9905 - val_dense_23_accuracy: 0.9722\n"
     ]
    },
    {
     "name": "stdout",
     "output_type": "stream",
     "text": [
      "\n",
      "Epoch 00012: val_loss improved from 0.42984 to 0.42913, saving model to model/model-ALL-12.hdf5\n",
      "Epoch 13/40\n",
      "782/782 - 262s - loss: 0.4299 - dense_19_loss: 0.0891 - dense_20_loss: 0.1501 - dense_21_loss: 0.0147 - dense_22_loss: 0.0530 - dense_23_loss: 0.1230 - dense_19_accuracy: 0.9813 - dense_20_accuracy: 0.9636 - dense_21_accuracy: 0.9979 - dense_22_accuracy: 0.9905 - dense_23_accuracy: 0.9722 - val_loss: 0.4289 - val_dense_19_loss: 0.0889 - val_dense_20_loss: 0.1497 - val_dense_21_loss: 0.0147 - val_dense_22_loss: 0.0528 - val_dense_23_loss: 0.1228 - val_dense_19_accuracy: 0.9813 - val_dense_20_accuracy: 0.9636 - val_dense_21_accuracy: 0.9979 - val_dense_22_accuracy: 0.9905 - val_dense_23_accuracy: 0.9722\n",
      "\n",
      "Epoch 00013: val_loss improved from 0.42913 to 0.42890, saving model to model/model-ALL-13.hdf5\n",
      "Epoch 14/40\n",
      "782/782 - 261s - loss: 0.4294 - dense_19_loss: 0.0890 - dense_20_loss: 0.1499 - dense_21_loss: 0.0147 - dense_22_loss: 0.0529 - dense_23_loss: 0.1229 - dense_19_accuracy: 0.9813 - dense_20_accuracy: 0.9636 - dense_21_accuracy: 0.9979 - dense_22_accuracy: 0.9905 - dense_23_accuracy: 0.9722 - val_loss: 0.4287 - val_dense_19_loss: 0.0888 - val_dense_20_loss: 0.1496 - val_dense_21_loss: 0.0147 - val_dense_22_loss: 0.0528 - val_dense_23_loss: 0.1228 - val_dense_19_accuracy: 0.9813 - val_dense_20_accuracy: 0.9636 - val_dense_21_accuracy: 0.9979 - val_dense_22_accuracy: 0.9905 - val_dense_23_accuracy: 0.9722\n",
      "\n",
      "Epoch 00014: val_loss improved from 0.42890 to 0.42865, saving model to model/model-ALL-14.hdf5\n",
      "Epoch 15/40\n",
      "782/782 - 261s - loss: 0.4294 - dense_19_loss: 0.0889 - dense_20_loss: 0.1498 - dense_21_loss: 0.0147 - dense_22_loss: 0.0530 - dense_23_loss: 0.1229 - dense_19_accuracy: 0.9813 - dense_20_accuracy: 0.9636 - dense_21_accuracy: 0.9979 - dense_22_accuracy: 0.9905 - dense_23_accuracy: 0.9722 - val_loss: 0.4285 - val_dense_19_loss: 0.0887 - val_dense_20_loss: 0.1496 - val_dense_21_loss: 0.0147 - val_dense_22_loss: 0.0528 - val_dense_23_loss: 0.1227 - val_dense_19_accuracy: 0.9813 - val_dense_20_accuracy: 0.9636 - val_dense_21_accuracy: 0.9979 - val_dense_22_accuracy: 0.9905 - val_dense_23_accuracy: 0.9722\n",
      "\n",
      "Epoch 00015: val_loss improved from 0.42865 to 0.42846, saving model to model/model-ALL-15.hdf5\n",
      "Epoch 16/40\n",
      "782/782 - 267s - loss: 0.4287 - dense_19_loss: 0.0888 - dense_20_loss: 0.1495 - dense_21_loss: 0.0147 - dense_22_loss: 0.0529 - dense_23_loss: 0.1228 - dense_19_accuracy: 0.9813 - dense_20_accuracy: 0.9636 - dense_21_accuracy: 0.9979 - dense_22_accuracy: 0.9905 - dense_23_accuracy: 0.9722 - val_loss: 0.4281 - val_dense_19_loss: 0.0886 - val_dense_20_loss: 0.1494 - val_dense_21_loss: 0.0147 - val_dense_22_loss: 0.0528 - val_dense_23_loss: 0.1226 - val_dense_19_accuracy: 0.9813 - val_dense_20_accuracy: 0.9636 - val_dense_21_accuracy: 0.9979 - val_dense_22_accuracy: 0.9905 - val_dense_23_accuracy: 0.9722\n",
      "\n",
      "Epoch 00016: val_loss improved from 0.42846 to 0.42806, saving model to model/model-ALL-16.hdf5\n",
      "Epoch 17/40\n",
      "782/782 - 269s - loss: 0.4288 - dense_19_loss: 0.0888 - dense_20_loss: 0.1497 - dense_21_loss: 0.0147 - dense_22_loss: 0.0528 - dense_23_loss: 0.1228 - dense_19_accuracy: 0.9813 - dense_20_accuracy: 0.9636 - dense_21_accuracy: 0.9979 - dense_22_accuracy: 0.9905 - dense_23_accuracy: 0.9722 - val_loss: 0.4282 - val_dense_19_loss: 0.0887 - val_dense_20_loss: 0.1494 - val_dense_21_loss: 0.0147 - val_dense_22_loss: 0.0528 - val_dense_23_loss: 0.1225 - val_dense_19_accuracy: 0.9813 - val_dense_20_accuracy: 0.9636 - val_dense_21_accuracy: 0.9979 - val_dense_22_accuracy: 0.9905 - val_dense_23_accuracy: 0.9722\n",
      "\n",
      "Epoch 00017: val_loss did not improve from 0.42806\n",
      "Epoch 18/40\n",
      "782/782 - 265s - loss: 0.4284 - dense_19_loss: 0.0887 - dense_20_loss: 0.1495 - dense_21_loss: 0.0147 - dense_22_loss: 0.0528 - dense_23_loss: 0.1227 - dense_19_accuracy: 0.9813 - dense_20_accuracy: 0.9636 - dense_21_accuracy: 0.9979 - dense_22_accuracy: 0.9905 - dense_23_accuracy: 0.9722 - val_loss: 0.4277 - val_dense_19_loss: 0.0886 - val_dense_20_loss: 0.1492 - val_dense_21_loss: 0.0147 - val_dense_22_loss: 0.0527 - val_dense_23_loss: 0.1225 - val_dense_19_accuracy: 0.9813 - val_dense_20_accuracy: 0.9636 - val_dense_21_accuracy: 0.9979 - val_dense_22_accuracy: 0.9905 - val_dense_23_accuracy: 0.9722\n",
      "\n",
      "Epoch 00018: val_loss improved from 0.42806 to 0.42765, saving model to model/model-ALL-18.hdf5\n",
      "Epoch 19/40\n",
      "782/782 - 263s - loss: 0.4281 - dense_19_loss: 0.0886 - dense_20_loss: 0.1494 - dense_21_loss: 0.0147 - dense_22_loss: 0.0528 - dense_23_loss: 0.1226 - dense_19_accuracy: 0.9813 - dense_20_accuracy: 0.9636 - dense_21_accuracy: 0.9979 - dense_22_accuracy: 0.9905 - dense_23_accuracy: 0.9722 - val_loss: 0.4275 - val_dense_19_loss: 0.0886 - val_dense_20_loss: 0.1490 - val_dense_21_loss: 0.0147 - val_dense_22_loss: 0.0527 - val_dense_23_loss: 0.1226 - val_dense_19_accuracy: 0.9813 - val_dense_20_accuracy: 0.9636 - val_dense_21_accuracy: 0.9979 - val_dense_22_accuracy: 0.9905 - val_dense_23_accuracy: 0.9722\n",
      "\n",
      "Epoch 00019: val_loss improved from 0.42765 to 0.42751, saving model to model/model-ALL-19.hdf5\n",
      "Epoch 20/40\n",
      "782/782 - 270s - loss: 0.4279 - dense_19_loss: 0.0886 - dense_20_loss: 0.1493 - dense_21_loss: 0.0147 - dense_22_loss: 0.0528 - dense_23_loss: 0.1225 - dense_19_accuracy: 0.9813 - dense_20_accuracy: 0.9636 - dense_21_accuracy: 0.9979 - dense_22_accuracy: 0.9905 - dense_23_accuracy: 0.9722 - val_loss: 0.4269 - val_dense_19_loss: 0.0884 - val_dense_20_loss: 0.1489 - val_dense_21_loss: 0.0146 - val_dense_22_loss: 0.0527 - val_dense_23_loss: 0.1223 - val_dense_19_accuracy: 0.9813 - val_dense_20_accuracy: 0.9636 - val_dense_21_accuracy: 0.9979 - val_dense_22_accuracy: 0.9905 - val_dense_23_accuracy: 0.9722\n",
      "\n",
      "Epoch 00020: val_loss improved from 0.42751 to 0.42686, saving model to model/model-ALL-20.hdf5\n",
      "Epoch 21/40\n",
      "782/782 - 268s - loss: 0.4276 - dense_19_loss: 0.0886 - dense_20_loss: 0.1491 - dense_21_loss: 0.0146 - dense_22_loss: 0.0528 - dense_23_loss: 0.1225 - dense_19_accuracy: 0.9813 - dense_20_accuracy: 0.9636 - dense_21_accuracy: 0.9979 - dense_22_accuracy: 0.9905 - dense_23_accuracy: 0.9722 - val_loss: 0.4272 - val_dense_19_loss: 0.0885 - val_dense_20_loss: 0.1490 - val_dense_21_loss: 0.0146 - val_dense_22_loss: 0.0527 - val_dense_23_loss: 0.1223 - val_dense_19_accuracy: 0.9813 - val_dense_20_accuracy: 0.9636 - val_dense_21_accuracy: 0.9979 - val_dense_22_accuracy: 0.9905 - val_dense_23_accuracy: 0.9722\n",
      "\n",
      "Epoch 00021: val_loss did not improve from 0.42686\n",
      "Epoch 22/40\n",
      "782/782 - 269s - loss: 0.4271 - dense_19_loss: 0.0884 - dense_20_loss: 0.1489 - dense_21_loss: 0.0147 - dense_22_loss: 0.0527 - dense_23_loss: 0.1224 - dense_19_accuracy: 0.9813 - dense_20_accuracy: 0.9636 - dense_21_accuracy: 0.9979 - dense_22_accuracy: 0.9905 - dense_23_accuracy: 0.9722 - val_loss: 0.4264 - val_dense_19_loss: 0.0882 - val_dense_20_loss: 0.1487 - val_dense_21_loss: 0.0146 - val_dense_22_loss: 0.0527 - val_dense_23_loss: 0.1221 - val_dense_19_accuracy: 0.9813 - val_dense_20_accuracy: 0.9636 - val_dense_21_accuracy: 0.9979 - val_dense_22_accuracy: 0.9905 - val_dense_23_accuracy: 0.9722\n",
      "\n",
      "Epoch 00022: val_loss improved from 0.42686 to 0.42637, saving model to model/model-ALL-22.hdf5\n",
      "Epoch 23/40\n",
      "782/782 - 269s - loss: 0.4265 - dense_19_loss: 0.0882 - dense_20_loss: 0.1487 - dense_21_loss: 0.0146 - dense_22_loss: 0.0528 - dense_23_loss: 0.1222 - dense_19_accuracy: 0.9813 - dense_20_accuracy: 0.9636 - dense_21_accuracy: 0.9979 - dense_22_accuracy: 0.9905 - dense_23_accuracy: 0.9722 - val_loss: 0.4260 - val_dense_19_loss: 0.0881 - val_dense_20_loss: 0.1486 - val_dense_21_loss: 0.0146 - val_dense_22_loss: 0.0527 - val_dense_23_loss: 0.1220 - val_dense_19_accuracy: 0.9813 - val_dense_20_accuracy: 0.9636 - val_dense_21_accuracy: 0.9979 - val_dense_22_accuracy: 0.9905 - val_dense_23_accuracy: 0.9722\n",
      "\n",
      "Epoch 00023: val_loss improved from 0.42637 to 0.42598, saving model to model/model-ALL-23.hdf5\n",
      "Epoch 24/40\n",
      "782/782 - 269s - loss: 0.4264 - dense_19_loss: 0.0881 - dense_20_loss: 0.1486 - dense_21_loss: 0.0146 - dense_22_loss: 0.0528 - dense_23_loss: 0.1223 - dense_19_accuracy: 0.9813 - dense_20_accuracy: 0.9636 - dense_21_accuracy: 0.9979 - dense_22_accuracy: 0.9905 - dense_23_accuracy: 0.9722 - val_loss: 0.4254 - val_dense_19_loss: 0.0880 - val_dense_20_loss: 0.1483 - val_dense_21_loss: 0.0146 - val_dense_22_loss: 0.0527 - val_dense_23_loss: 0.1219 - val_dense_19_accuracy: 0.9813 - val_dense_20_accuracy: 0.9636 - val_dense_21_accuracy: 0.9979 - val_dense_22_accuracy: 0.9905 - val_dense_23_accuracy: 0.9722\n"
     ]
    },
    {
     "name": "stdout",
     "output_type": "stream",
     "text": [
      "\n",
      "Epoch 00024: val_loss improved from 0.42598 to 0.42544, saving model to model/model-ALL-24.hdf5\n",
      "Epoch 25/40\n",
      "782/782 - 262s - loss: 0.4256 - dense_19_loss: 0.0880 - dense_20_loss: 0.1483 - dense_21_loss: 0.0146 - dense_22_loss: 0.0528 - dense_23_loss: 0.1219 - dense_19_accuracy: 0.9813 - dense_20_accuracy: 0.9636 - dense_21_accuracy: 0.9979 - dense_22_accuracy: 0.9905 - dense_23_accuracy: 0.9722 - val_loss: 0.4248 - val_dense_19_loss: 0.0878 - val_dense_20_loss: 0.1480 - val_dense_21_loss: 0.0146 - val_dense_22_loss: 0.0527 - val_dense_23_loss: 0.1218 - val_dense_19_accuracy: 0.9813 - val_dense_20_accuracy: 0.9636 - val_dense_21_accuracy: 0.9979 - val_dense_22_accuracy: 0.9905 - val_dense_23_accuracy: 0.9722\n",
      "\n",
      "Epoch 00025: val_loss improved from 0.42544 to 0.42479, saving model to model/model-ALL-25.hdf5\n",
      "Epoch 26/40\n",
      "782/782 - 262s - loss: 0.4249 - dense_19_loss: 0.0878 - dense_20_loss: 0.1480 - dense_21_loss: 0.0146 - dense_22_loss: 0.0527 - dense_23_loss: 0.1218 - dense_19_accuracy: 0.9813 - dense_20_accuracy: 0.9636 - dense_21_accuracy: 0.9979 - dense_22_accuracy: 0.9905 - dense_23_accuracy: 0.9722 - val_loss: 0.4245 - val_dense_19_loss: 0.0878 - val_dense_20_loss: 0.1479 - val_dense_21_loss: 0.0146 - val_dense_22_loss: 0.0526 - val_dense_23_loss: 0.1216 - val_dense_19_accuracy: 0.9813 - val_dense_20_accuracy: 0.9636 - val_dense_21_accuracy: 0.9979 - val_dense_22_accuracy: 0.9905 - val_dense_23_accuracy: 0.9722\n",
      "\n",
      "Epoch 00026: val_loss improved from 0.42479 to 0.42449, saving model to model/model-ALL-26.hdf5\n",
      "Epoch 27/40\n",
      "782/782 - 262s - loss: 0.4244 - dense_19_loss: 0.0877 - dense_20_loss: 0.1478 - dense_21_loss: 0.0146 - dense_22_loss: 0.0527 - dense_23_loss: 0.1216 - dense_19_accuracy: 0.9813 - dense_20_accuracy: 0.9636 - dense_21_accuracy: 0.9979 - dense_22_accuracy: 0.9905 - dense_23_accuracy: 0.9722 - val_loss: 0.4235 - val_dense_19_loss: 0.0876 - val_dense_20_loss: 0.1474 - val_dense_21_loss: 0.0146 - val_dense_22_loss: 0.0526 - val_dense_23_loss: 0.1214 - val_dense_19_accuracy: 0.9813 - val_dense_20_accuracy: 0.9636 - val_dense_21_accuracy: 0.9979 - val_dense_22_accuracy: 0.9905 - val_dense_23_accuracy: 0.9722\n",
      "\n",
      "Epoch 00027: val_loss improved from 0.42449 to 0.42352, saving model to model/model-ALL-27.hdf5\n",
      "Epoch 28/40\n",
      "782/782 - 262s - loss: 0.4235 - dense_19_loss: 0.0875 - dense_20_loss: 0.1473 - dense_21_loss: 0.0146 - dense_22_loss: 0.0527 - dense_23_loss: 0.1214 - dense_19_accuracy: 0.9813 - dense_20_accuracy: 0.9636 - dense_21_accuracy: 0.9979 - dense_22_accuracy: 0.9905 - dense_23_accuracy: 0.9722 - val_loss: 0.4230 - val_dense_19_loss: 0.0874 - val_dense_20_loss: 0.1471 - val_dense_21_loss: 0.0145 - val_dense_22_loss: 0.0526 - val_dense_23_loss: 0.1214 - val_dense_19_accuracy: 0.9813 - val_dense_20_accuracy: 0.9636 - val_dense_21_accuracy: 0.9979 - val_dense_22_accuracy: 0.9905 - val_dense_23_accuracy: 0.9722\n",
      "\n",
      "Epoch 00028: val_loss improved from 0.42352 to 0.42296, saving model to model/model-ALL-28.hdf5\n",
      "Epoch 29/40\n",
      "782/782 - 268s - loss: 0.4228 - dense_19_loss: 0.0873 - dense_20_loss: 0.1470 - dense_21_loss: 0.0146 - dense_22_loss: 0.0527 - dense_23_loss: 0.1213 - dense_19_accuracy: 0.9813 - dense_20_accuracy: 0.9636 - dense_21_accuracy: 0.9979 - dense_22_accuracy: 0.9905 - dense_23_accuracy: 0.9722 - val_loss: 0.4214 - val_dense_19_loss: 0.0869 - val_dense_20_loss: 0.1464 - val_dense_21_loss: 0.0145 - val_dense_22_loss: 0.0526 - val_dense_23_loss: 0.1209 - val_dense_19_accuracy: 0.9813 - val_dense_20_accuracy: 0.9636 - val_dense_21_accuracy: 0.9979 - val_dense_22_accuracy: 0.9905 - val_dense_23_accuracy: 0.9722\n",
      "\n",
      "Epoch 00029: val_loss improved from 0.42296 to 0.42138, saving model to model/model-ALL-29.hdf5\n",
      "Epoch 30/40\n",
      "782/782 - 262s - loss: 0.4216 - dense_19_loss: 0.0871 - dense_20_loss: 0.1464 - dense_21_loss: 0.0145 - dense_22_loss: 0.0526 - dense_23_loss: 0.1209 - dense_19_accuracy: 0.9813 - dense_20_accuracy: 0.9636 - dense_21_accuracy: 0.9979 - dense_22_accuracy: 0.9905 - dense_23_accuracy: 0.9722 - val_loss: 0.4203 - val_dense_19_loss: 0.0866 - val_dense_20_loss: 0.1460 - val_dense_21_loss: 0.0145 - val_dense_22_loss: 0.0526 - val_dense_23_loss: 0.1206 - val_dense_19_accuracy: 0.9813 - val_dense_20_accuracy: 0.9636 - val_dense_21_accuracy: 0.9979 - val_dense_22_accuracy: 0.9905 - val_dense_23_accuracy: 0.9722\n",
      "\n",
      "Epoch 00030: val_loss improved from 0.42138 to 0.42030, saving model to model/model-ALL-30.hdf5\n",
      "Epoch 31/40\n",
      "782/782 - 262s - loss: 0.4201 - dense_19_loss: 0.0866 - dense_20_loss: 0.1458 - dense_21_loss: 0.0145 - dense_22_loss: 0.0527 - dense_23_loss: 0.1206 - dense_19_accuracy: 0.9813 - dense_20_accuracy: 0.9636 - dense_21_accuracy: 0.9979 - dense_22_accuracy: 0.9905 - dense_23_accuracy: 0.9722 - val_loss: 0.4188 - val_dense_19_loss: 0.0862 - val_dense_20_loss: 0.1452 - val_dense_21_loss: 0.0145 - val_dense_22_loss: 0.0526 - val_dense_23_loss: 0.1203 - val_dense_19_accuracy: 0.9813 - val_dense_20_accuracy: 0.9636 - val_dense_21_accuracy: 0.9979 - val_dense_22_accuracy: 0.9905 - val_dense_23_accuracy: 0.9722\n",
      "\n",
      "Epoch 00031: val_loss improved from 0.42030 to 0.41876, saving model to model/model-ALL-31.hdf5\n",
      "Epoch 32/40\n",
      "782/782 - 262s - loss: 0.4188 - dense_19_loss: 0.0862 - dense_20_loss: 0.1452 - dense_21_loss: 0.0145 - dense_22_loss: 0.0527 - dense_23_loss: 0.1203 - dense_19_accuracy: 0.9813 - dense_20_accuracy: 0.9636 - dense_21_accuracy: 0.9979 - dense_22_accuracy: 0.9905 - dense_23_accuracy: 0.9722 - val_loss: 0.4171 - val_dense_19_loss: 0.0858 - val_dense_20_loss: 0.1444 - val_dense_21_loss: 0.0144 - val_dense_22_loss: 0.0525 - val_dense_23_loss: 0.1199 - val_dense_19_accuracy: 0.9813 - val_dense_20_accuracy: 0.9636 - val_dense_21_accuracy: 0.9979 - val_dense_22_accuracy: 0.9905 - val_dense_23_accuracy: 0.9722\n",
      "\n",
      "Epoch 00032: val_loss improved from 0.41876 to 0.41706, saving model to model/model-ALL-32.hdf5\n",
      "Epoch 33/40\n",
      "782/782 - 16075s - loss: 0.4168 - dense_19_loss: 0.0856 - dense_20_loss: 0.1444 - dense_21_loss: 0.0144 - dense_22_loss: 0.0526 - dense_23_loss: 0.1198 - dense_19_accuracy: 0.9813 - dense_20_accuracy: 0.9636 - dense_21_accuracy: 0.9979 - dense_22_accuracy: 0.9905 - dense_23_accuracy: 0.9722 - val_loss: 0.4151 - val_dense_19_loss: 0.0852 - val_dense_20_loss: 0.1436 - val_dense_21_loss: 0.0144 - val_dense_22_loss: 0.0526 - val_dense_23_loss: 0.1194 - val_dense_19_accuracy: 0.9813 - val_dense_20_accuracy: 0.9636 - val_dense_21_accuracy: 0.9979 - val_dense_22_accuracy: 0.9905 - val_dense_23_accuracy: 0.9722\n",
      "\n",
      "Epoch 00033: val_loss improved from 0.41706 to 0.41513, saving model to model/model-ALL-33.hdf5\n",
      "Epoch 34/40\n",
      "782/782 - 3051s - loss: 0.4143 - dense_19_loss: 0.0850 - dense_20_loss: 0.1431 - dense_21_loss: 0.0144 - dense_22_loss: 0.0525 - dense_23_loss: 0.1192 - dense_19_accuracy: 0.9813 - dense_20_accuracy: 0.9636 - dense_21_accuracy: 0.9979 - dense_22_accuracy: 0.9905 - dense_23_accuracy: 0.9722 - val_loss: 0.4125 - val_dense_19_loss: 0.0845 - val_dense_20_loss: 0.1424 - val_dense_21_loss: 0.0143 - val_dense_22_loss: 0.0525 - val_dense_23_loss: 0.1188 - val_dense_19_accuracy: 0.9813 - val_dense_20_accuracy: 0.9636 - val_dense_21_accuracy: 0.9979 - val_dense_22_accuracy: 0.9905 - val_dense_23_accuracy: 0.9722\n",
      "\n",
      "Epoch 00034: val_loss improved from 0.41513 to 0.41254, saving model to model/model-ALL-34.hdf5\n",
      "Epoch 35/40\n",
      "782/782 - 265s - loss: 0.4118 - dense_19_loss: 0.0842 - dense_20_loss: 0.1420 - dense_21_loss: 0.0143 - dense_22_loss: 0.0526 - dense_23_loss: 0.1186 - dense_19_accuracy: 0.9813 - dense_20_accuracy: 0.9636 - dense_21_accuracy: 0.9979 - dense_22_accuracy: 0.9905 - dense_23_accuracy: 0.9722 - val_loss: 0.4097 - val_dense_19_loss: 0.0836 - val_dense_20_loss: 0.1411 - val_dense_21_loss: 0.0143 - val_dense_22_loss: 0.0525 - val_dense_23_loss: 0.1182 - val_dense_19_accuracy: 0.9813 - val_dense_20_accuracy: 0.9636 - val_dense_21_accuracy: 0.9979 - val_dense_22_accuracy: 0.9905 - val_dense_23_accuracy: 0.9722\n",
      "\n",
      "Epoch 00035: val_loss improved from 0.41254 to 0.40974, saving model to model/model-ALL-35.hdf5\n",
      "Epoch 36/40\n",
      "782/782 - 264s - loss: 0.4087 - dense_19_loss: 0.0833 - dense_20_loss: 0.1406 - dense_21_loss: 0.0143 - dense_22_loss: 0.0526 - dense_23_loss: 0.1179 - dense_19_accuracy: 0.9813 - dense_20_accuracy: 0.9636 - dense_21_accuracy: 0.9979 - dense_22_accuracy: 0.9905 - dense_23_accuracy: 0.9722 - val_loss: 0.4066 - val_dense_19_loss: 0.0827 - val_dense_20_loss: 0.1396 - val_dense_21_loss: 0.0142 - val_dense_22_loss: 0.0526 - val_dense_23_loss: 0.1174 - val_dense_19_accuracy: 0.9813 - val_dense_20_accuracy: 0.9636 - val_dense_21_accuracy: 0.9979 - val_dense_22_accuracy: 0.9905 - val_dense_23_accuracy: 0.9722\n"
     ]
    },
    {
     "name": "stdout",
     "output_type": "stream",
     "text": [
      "\n",
      "Epoch 00036: val_loss improved from 0.40974 to 0.40657, saving model to model/model-ALL-36.hdf5\n",
      "Epoch 37/40\n",
      "782/782 - 264s - loss: 0.4053 - dense_19_loss: 0.0823 - dense_20_loss: 0.1391 - dense_21_loss: 0.0142 - dense_22_loss: 0.0526 - dense_23_loss: 0.1172 - dense_19_accuracy: 0.9813 - dense_20_accuracy: 0.9636 - dense_21_accuracy: 0.9979 - dense_22_accuracy: 0.9905 - dense_23_accuracy: 0.9722 - val_loss: 0.4027 - val_dense_19_loss: 0.0816 - val_dense_20_loss: 0.1380 - val_dense_21_loss: 0.0141 - val_dense_22_loss: 0.0525 - val_dense_23_loss: 0.1165 - val_dense_19_accuracy: 0.9813 - val_dense_20_accuracy: 0.9636 - val_dense_21_accuracy: 0.9979 - val_dense_22_accuracy: 0.9905 - val_dense_23_accuracy: 0.9722\n",
      "\n",
      "Epoch 00037: val_loss improved from 0.40657 to 0.40272, saving model to model/model-ALL-37.hdf5\n",
      "Epoch 38/40\n",
      "782/782 - 264s - loss: 0.4016 - dense_19_loss: 0.0812 - dense_20_loss: 0.1374 - dense_21_loss: 0.0141 - dense_22_loss: 0.0525 - dense_23_loss: 0.1163 - dense_19_accuracy: 0.9813 - dense_20_accuracy: 0.9636 - dense_21_accuracy: 0.9979 - dense_22_accuracy: 0.9905 - dense_23_accuracy: 0.9722 - val_loss: 0.3996 - val_dense_19_loss: 0.0807 - val_dense_20_loss: 0.1368 - val_dense_21_loss: 0.0140 - val_dense_22_loss: 0.0524 - val_dense_23_loss: 0.1157 - val_dense_19_accuracy: 0.9813 - val_dense_20_accuracy: 0.9636 - val_dense_21_accuracy: 0.9979 - val_dense_22_accuracy: 0.9905 - val_dense_23_accuracy: 0.9722\n",
      "\n",
      "Epoch 00038: val_loss improved from 0.40272 to 0.39965, saving model to model/model-ALL-38.hdf5\n",
      "Epoch 39/40\n",
      "782/782 - 266s - loss: 0.3978 - dense_19_loss: 0.0799 - dense_20_loss: 0.1358 - dense_21_loss: 0.0140 - dense_22_loss: 0.0526 - dense_23_loss: 0.1155 - dense_19_accuracy: 0.9813 - dense_20_accuracy: 0.9636 - dense_21_accuracy: 0.9979 - dense_22_accuracy: 0.9905 - dense_23_accuracy: 0.9722 - val_loss: 0.3954 - val_dense_19_loss: 0.0791 - val_dense_20_loss: 0.1347 - val_dense_21_loss: 0.0140 - val_dense_22_loss: 0.0527 - val_dense_23_loss: 0.1149 - val_dense_19_accuracy: 0.9813 - val_dense_20_accuracy: 0.9636 - val_dense_21_accuracy: 0.9979 - val_dense_22_accuracy: 0.9905 - val_dense_23_accuracy: 0.9722\n",
      "\n",
      "Epoch 00039: val_loss improved from 0.39965 to 0.39544, saving model to model/model-ALL-39.hdf5\n",
      "Epoch 40/40\n",
      "782/782 - 264s - loss: 0.3942 - dense_19_loss: 0.0787 - dense_20_loss: 0.1344 - dense_21_loss: 0.0140 - dense_22_loss: 0.0525 - dense_23_loss: 0.1147 - dense_19_accuracy: 0.9813 - dense_20_accuracy: 0.9636 - dense_21_accuracy: 0.9979 - dense_22_accuracy: 0.9905 - dense_23_accuracy: 0.9722 - val_loss: 0.3915 - val_dense_19_loss: 0.0778 - val_dense_20_loss: 0.1332 - val_dense_21_loss: 0.0139 - val_dense_22_loss: 0.0524 - val_dense_23_loss: 0.1141 - val_dense_19_accuracy: 0.9813 - val_dense_20_accuracy: 0.9636 - val_dense_21_accuracy: 0.9979 - val_dense_22_accuracy: 0.9905 - val_dense_23_accuracy: 0.9722\n",
      "\n",
      "Epoch 00040: val_loss improved from 0.39544 to 0.39146, saving model to model/model-ALL-40.hdf5\n"
     ]
    }
   ],
   "source": [
    "# due to lack of time and resources x_train and y_train are limited to 100000\n",
    "# it can be changed as per resource available\n",
    "limitation = 100000\n",
    "\n",
    "# creating checkpoint for each epoch and saving the ones that are improvement from old epochs\n",
    "cp_callback = tf.keras.callbacks.ModelCheckpoint(filepath='model/model-ALL-{epoch:02d}.hdf5',\n",
    "                                                 save_best_only=True, \n",
    "                                                 save_freq='epoch', \n",
    "                                                 verbose=1)\n",
    "\n",
    "# as gpu resources gets maxed out, using tf with CPU is implemented\n",
    "with tf.device(\"CPU:0\"):\n",
    "    history = model.fit(x = x_train[0:limitation],\n",
    "              y = [y_train[0][0:limitation], y_train[1][0:limitation], y_train[2][0:limitation], y_train[3][0:limitation], y_train[4][0:limitation]],\n",
    "              validation_data = (x_validate[0:limitation], [y_validate[0][0:limitation], y_validate[1][0:limitation], y_validate[2][0:limitation], y_validate[3][0:limitation], y_validate[4][0:limitation]]),\n",
    "              epochs = EPOCHS,\n",
    "              batch_size = 128,\n",
    "              verbose =2,\n",
    "              callbacks = cp_callback)\n",
    "\n",
    "with open('history/History-ALL-40EP-CNN', 'wb') as file_pi:\n",
    "    pickle.dump(history.history, file_pi)\n"
   ]
  },
  {
   "cell_type": "markdown",
   "id": "2e5eef52",
   "metadata": {},
   "source": [
    "### Model Evaluation using Testing Set"
   ]
  },
  {
   "cell_type": "code",
   "execution_count": 53,
   "id": "830caf8b",
   "metadata": {},
   "outputs": [],
   "source": [
    "# Load model with the latest and the lowest loss\n",
    "from tensorflow.keras.models import load_model\n",
    "model = load_model('model/model-ALL-40.hdf5')"
   ]
  },
  {
   "cell_type": "code",
   "execution_count": 54,
   "id": "fbdfb194",
   "metadata": {},
   "outputs": [
    {
     "name": "stdout",
     "output_type": "stream",
     "text": [
      "7965/7965 [==============================] - 608s 76ms/step - loss: 0.3940 - dense_19_loss: 0.0787 - dense_20_loss: 0.1360 - dense_21_loss: 0.0134 - dense_22_loss: 0.0528 - dense_23_loss: 0.1130 - dense_19_accuracy: 0.9811 - dense_20_accuracy: 0.9627 - dense_21_accuracy: 0.9979 - dense_22_accuracy: 0.9905 - dense_23_accuracy: 0.9726\n",
      "loss: 0.39400631189346313\n",
      "dense_19_loss: 0.07874489575624466\n",
      "dense_20_loss: 0.1360139697790146\n",
      "dense_21_loss: 0.013448331505060196\n",
      "dense_22_loss: 0.05277188867330551\n",
      "dense_23_loss: 0.11302705854177475\n",
      "dense_19_accuracy: 0.9810813665390015\n",
      "dense_20_accuracy: 0.9627032279968262\n",
      "dense_21_accuracy: 0.9979450106620789\n",
      "dense_22_accuracy: 0.9904911518096924\n",
      "dense_23_accuracy: 0.9725750088691711\n"
     ]
    }
   ],
   "source": [
    "# evaluate the model with all the test data available\n",
    "with tf.device(\"CPU:0\"):\n",
    "    results = model.evaluate(x_test, y_test, batch_size=128)\n",
    "    for num in range(0,len(model.metrics_names)):\n",
    "        print(model.metrics_names[num]+': '+str(results[num]))"
   ]
  },
  {
   "cell_type": "markdown",
   "id": "90602b5f",
   "metadata": {},
   "source": [
    "### Check The Evaluation Metrics"
   ]
  },
  {
   "cell_type": "code",
   "execution_count": 55,
   "id": "99501893",
   "metadata": {},
   "outputs": [],
   "source": [
    "# chacking the evaluation metrics with model \n",
    "with tf.device(\"CPU:0\"):\n",
    "    predicted = model.predict(x_test)"
   ]
  },
  {
   "cell_type": "code",
   "execution_count": 56,
   "id": "d8d60134",
   "metadata": {},
   "outputs": [
    {
     "name": "stdout",
     "output_type": "stream",
     "text": [
      "0    1019470\n",
      "1          1\n",
      "dtype: int64\n",
      "0    1019463\n",
      "1          8\n",
      "dtype: int64\n",
      "0    1019471\n",
      "dtype: int64\n",
      "0    1019471\n",
      "dtype: int64\n",
      "0    1019471\n",
      "dtype: int64\n"
     ]
    }
   ],
   "source": [
    "# the result for the prediction metrics\n",
    "pred_test = [[],[],[],[],[]]\n",
    "for col in range(0,len(predicted)):\n",
    "    for row in predicted[col]:\n",
    "        if row[0] >= row[1]:\n",
    "            pred_test[col].append(0)\n",
    "        else:\n",
    "            pred_test[col].append(1)\n",
    "            \n",
    "for col in range(0,len(predicted)):\n",
    "    print(pd.value_counts(pred_test[col]))"
   ]
  },
  {
   "cell_type": "markdown",
   "id": "2fda1c39",
   "metadata": {},
   "source": [
    "### Evaluate on the testing set\n"
   ]
  },
  {
   "cell_type": "code",
   "execution_count": 57,
   "id": "48a03453",
   "metadata": {},
   "outputs": [],
   "source": [
    "'''\n",
    "    CWE-120 - 1\n",
    "    CWE-119 - 2\n",
    "    CWE-469 - 3\n",
    "    CWE-476 - 4\n",
    "    CWE-other - 5\n",
    "    \n",
    "    the range is set from 1-5, but the list evalualtion is n-1 as it follows list type \n",
    "'''\n",
    "label = { 1: \"CWE-120\",\n",
    "    2: \"CWE-119\",\n",
    "    3: \"CWE-469\",\n",
    "    4 : \"CWE-476\",\n",
    "    5: \"CWE-other\"}"
   ]
  },
  {
   "cell_type": "code",
   "execution_count": 58,
   "id": "c2dbe87f",
   "metadata": {},
   "outputs": [
    {
     "name": "stdout",
     "output_type": "stream",
     "text": [
      "\n",
      "This is evaluation for column CWE-120\n",
      "\n",
      "TP: 0\n",
      "FP: 1\n",
      "TN: 1000184\n",
      "FN: 19286\n",
      "\n",
      "Accuracy: 0.9810813647470109\n",
      "Precision: 0.0\n",
      "Recall: 0.0\n",
      "F-measure: 0.0\n",
      "Precision-Recall AUC: 0.10549582771739983\n",
      "AUC: 0.8410078852823821\n",
      "MCC: -0.0001375288107500446\n",
      "\n",
      "This is evaluation for column CWE-119\n",
      "\n",
      "TP: 2\n",
      "FP: 6\n",
      "TN: 981446\n",
      "FN: 38017\n",
      "\n",
      "Accuracy: 0.9627032058783428\n",
      "Precision: 0.25\n",
      "Recall: 5.260527630921381e-05\n",
      "F-measure: 0.00010518841875509505\n",
      "Precision-Recall AUC: 0.14850872009810304\n",
      "AUC: 0.8098944702016208\n",
      "MCC: 0.0031447150956771318\n",
      "\n",
      "This is evaluation for column CWE-469\n",
      "\n",
      "TP: 0\n",
      "FP: 0\n",
      "TN: 1017376\n",
      "FN: 2095\n",
      "\n",
      "Accuracy: 0.9979450126585259\n"
     ]
    },
    {
     "name": "stderr",
     "output_type": "stream",
     "text": [
      "/Users/anish/opt/anaconda3/envs/data-science/lib/python3.9/site-packages/sklearn/metrics/_classification.py:1248: UndefinedMetricWarning: Precision is ill-defined and being set to 0.0 due to no predicted samples. Use `zero_division` parameter to control this behavior.\n",
      "  _warn_prf(average, modifier, msg_start, len(result))\n"
     ]
    },
    {
     "name": "stdout",
     "output_type": "stream",
     "text": [
      "Precision: 0.0\n",
      "Recall: 0.0\n",
      "F-measure: 0.0\n",
      "Precision-Recall AUC: 0.014766961487704717\n",
      "AUC: 0.8414161236033331\n"
     ]
    },
    {
     "name": "stderr",
     "output_type": "stream",
     "text": [
      "/Users/anish/opt/anaconda3/envs/data-science/lib/python3.9/site-packages/sklearn/metrics/_classification.py:873: RuntimeWarning: invalid value encountered in double_scalars\n",
      "  mcc = cov_ytyp / np.sqrt(cov_ytyt * cov_ypyp)\n"
     ]
    },
    {
     "name": "stdout",
     "output_type": "stream",
     "text": [
      "MCC: 0.0\n",
      "\n",
      "This is evaluation for column CWE-476\n",
      "\n",
      "TP: 0\n",
      "FP: 0\n",
      "TN: 1009777\n",
      "FN: 9694\n",
      "\n",
      "Accuracy: 0.9904911468791168\n"
     ]
    },
    {
     "name": "stderr",
     "output_type": "stream",
     "text": [
      "/Users/anish/opt/anaconda3/envs/data-science/lib/python3.9/site-packages/sklearn/metrics/_classification.py:1248: UndefinedMetricWarning: Precision is ill-defined and being set to 0.0 due to no predicted samples. Use `zero_division` parameter to control this behavior.\n",
      "  _warn_prf(average, modifier, msg_start, len(result))\n"
     ]
    },
    {
     "name": "stdout",
     "output_type": "stream",
     "text": [
      "Precision: 0.0\n",
      "Recall: 0.0\n",
      "F-measure: 0.0\n",
      "Precision-Recall AUC: 0.01580562738141317\n",
      "AUC: 0.6277689879258658\n"
     ]
    },
    {
     "name": "stderr",
     "output_type": "stream",
     "text": [
      "/Users/anish/opt/anaconda3/envs/data-science/lib/python3.9/site-packages/sklearn/metrics/_classification.py:873: RuntimeWarning: invalid value encountered in double_scalars\n",
      "  mcc = cov_ytyp / np.sqrt(cov_ytyt * cov_ypyp)\n"
     ]
    },
    {
     "name": "stdout",
     "output_type": "stream",
     "text": [
      "MCC: 0.0\n",
      "\n",
      "This is evaluation for column CWE-other\n",
      "\n",
      "TP: 0\n",
      "FP: 0\n",
      "TN: 991512\n",
      "FN: 27959\n",
      "\n",
      "Accuracy: 0.9725749923244507\n"
     ]
    },
    {
     "name": "stderr",
     "output_type": "stream",
     "text": [
      "/Users/anish/opt/anaconda3/envs/data-science/lib/python3.9/site-packages/sklearn/metrics/_classification.py:1248: UndefinedMetricWarning: Precision is ill-defined and being set to 0.0 due to no predicted samples. Use `zero_division` parameter to control this behavior.\n",
      "  _warn_prf(average, modifier, msg_start, len(result))\n"
     ]
    },
    {
     "name": "stdout",
     "output_type": "stream",
     "text": [
      "Precision: 0.0\n",
      "Recall: 0.0\n",
      "F-measure: 0.0\n",
      "Precision-Recall AUC: 0.0992059587483449\n",
      "AUC: 0.7650084805410786\n",
      "MCC: 0.0\n"
     ]
    },
    {
     "name": "stderr",
     "output_type": "stream",
     "text": [
      "/Users/anish/opt/anaconda3/envs/data-science/lib/python3.9/site-packages/sklearn/metrics/_classification.py:873: RuntimeWarning: invalid value encountered in double_scalars\n",
      "  mcc = cov_ytyp / np.sqrt(cov_ytyt * cov_ypyp)\n"
     ]
    }
   ],
   "source": [
    "for col in range(1,6):\n",
    "    confusion = sklearn.metrics.confusion_matrix(y_true=test.iloc[:,col].to_numpy(), y_pred=pred_test[col-1])\n",
    "    tn, fp, fn, tp = confusion.ravel()\n",
    "    print('\\nThis is evaluation for column',label[col])\n",
    "    print('\\nTP:',tp)\n",
    "    print('FP:',fp)\n",
    "    print('TN:',tn)\n",
    "    print('FN:',fn)\n",
    "\n",
    "    ## Performance measure\n",
    "    print('\\nAccuracy: '+ str(sklearn.metrics.accuracy_score(y_true=test.iloc[:,col].to_numpy(), y_pred=pred_test[col-1])))\n",
    "    print('Precision: '+ str(sklearn.metrics.precision_score(y_true=test.iloc[:,col].to_numpy(), y_pred=pred_test[col-1])))\n",
    "    print('Recall: '+ str(sklearn.metrics.recall_score(y_true=test.iloc[:,col].to_numpy(), y_pred=pred_test[col-1])))\n",
    "    print('F-measure: '+ str(sklearn.metrics.f1_score(y_true=test.iloc[:,col].to_numpy(), y_pred=pred_test[col-1])))\n",
    "    print('Precision-Recall AUC: '+ str(sklearn.metrics.average_precision_score(y_true=test.iloc[:,col].to_numpy(), y_score=predicted[col-1][:,1])))\n",
    "    print('AUC: '+ str(sklearn.metrics.roc_auc_score(y_true=test.iloc[:,col].to_numpy(), y_score=predicted[col-1][:,1])))\n",
    "    print('MCC: '+ str(sklearn.metrics.matthews_corrcoef(y_true=test.iloc[:,col].to_numpy(), y_pred=pred_test[col-1])))\n",
    "    \n",
    "    "
   ]
  },
  {
   "cell_type": "code",
   "execution_count": 93,
   "id": "dd0c5260",
   "metadata": {
    "scrolled": false
   },
   "outputs": [
    {
     "data": {
      "image/png": "[encoded data removed]",
      "text/plain": [
       "<Figure size 1440x720 with 10 Axes>"
      ]
     },
     "metadata": {
      "needs_background": "light"
     },
     "output_type": "display_data"
    }
   ],
   "source": [
    "# confusion matrix for each category\n",
    "i,j=0,0\n",
    "PLOTS_PER_ROW = 3\n",
    "fig, axs = plt.subplots(math.ceil(5/PLOTS_PER_ROW),PLOTS_PER_ROW, figsize=(20, 10))    \n",
    "fig.suptitle(\"Confusion matrix\")\n",
    "for col in range(1,6):\n",
    "    confusion = sklearn.metrics.confusion_matrix(y_true=test.iloc[:,col].to_numpy(), y_pred=pred_test[col-1])\n",
    "    tn, fp, fn, tp = confusion.ravel()\n",
    "    \n",
    "    cm = np.array([[tp,fn], [fp, tn]])\n",
    "    ls = [\"Positive\", \"Negative\"]# your y labels\n",
    "    disp = ConfusionMatrixDisplay(confusion_matrix=cm, display_labels=ls)\n",
    "    disp.plot(ax=axs[i,j]) \n",
    "    axs[i, j].set_title(label[col])\n",
    "    j+=1\n",
    "    if j%PLOTS_PER_ROW==0:\n",
    "        i+=1\n",
    "        j=0\n",
    "        \n",
    "fig.delaxes(axs[1,2])\n",
    "fig.tight_layout()\n",
    "plt.show()\n",
    "    "
   ]
  },
  {
   "cell_type": "code",
   "execution_count": 103,
   "id": "2c0441b1",
   "metadata": {},
   "outputs": [
    {
     "name": "stderr",
     "output_type": "stream",
     "text": [
      "/Users/anish/opt/anaconda3/envs/data-science/lib/python3.9/site-packages/sklearn/utils/validation.py:70: FutureWarning: Pass include_values=AxesSubplot(0.672059,0.125;0.227941x0.343182) as keyword args. From version 1.0 (renaming of 0.25) passing these as positional arguments will result in an error\n",
      "  warnings.warn(f\"Pass {args_msg} as keyword args. From version \"\n"
     ]
    },
    {
     "data": {
      "text/plain": [
       "Text(0.5, 1.0, 'CWE-120')"
      ]
     },
     "execution_count": 103,
     "metadata": {},
     "output_type": "execute_result"
    },
    {
     "data": {
      "text/plain": [
       "<Figure size 432x288 with 0 Axes>"
      ]
     },
     "metadata": {},
     "output_type": "display_data"
    },
    {
     "data": {
      "image/png": "[encoded data removed]",
      "text/plain": [
       "<Figure size 432x288 with 2 Axes>"
      ]
     },
     "metadata": {
      "needs_background": "light"
     },
     "output_type": "display_data"
    }
   ],
   "source": [
    "fig = plt.figure()\n",
    "col = 1\n",
    "confusion = sklearn.metrics.confusion_matrix(y_true=test.iloc[:,col].to_numpy(), y_pred=pred_test[col-1])\n",
    "tn, fp, fn, tp = confusion.ravel()\n",
    "cm = np.array([[tp,fn], [fp, tn]])\n",
    "ls = [\"Positive\", \"Negative\"] # your y labels\n",
    "disp = ConfusionMatrixDisplay(confusion_matrix=cm, display_labels=ls)\n",
    "disp.plot(axs[i,j]) \n",
    "plt.title(label[col])"
   ]
  },
  {
   "cell_type": "code",
   "execution_count": 106,
   "id": "2f3eb00b",
   "metadata": {},
   "outputs": [
    {
     "name": "stderr",
     "output_type": "stream",
     "text": [
      "/Users/anish/opt/anaconda3/envs/data-science/lib/python3.9/site-packages/sklearn/utils/validation.py:70: FutureWarning: Pass include_values=AxesSubplot(0.672059,0.125;0.227941x0.343182) as keyword args. From version 1.0 (renaming of 0.25) passing these as positional arguments will result in an error\n",
      "  warnings.warn(f\"Pass {args_msg} as keyword args. From version \"\n"
     ]
    },
    {
     "data": {
      "text/plain": [
       "Text(0.5, 1.0, 'CWE-119')"
      ]
     },
     "execution_count": 106,
     "metadata": {},
     "output_type": "execute_result"
    },
    {
     "data": {
      "text/plain": [
       "<Figure size 432x288 with 0 Axes>"
      ]
     },
     "metadata": {},
     "output_type": "display_data"
    },
    {
     "data": {
      "image/png": "[encoded data removed]",
      "text/plain": [
       "<Figure size 432x288 with 2 Axes>"
      ]
     },
     "metadata": {
      "needs_background": "light"
     },
     "output_type": "display_data"
    }
   ],
   "source": [
    "fig = plt.figure()\n",
    "col = 2\n",
    "confusion = sklearn.metrics.confusion_matrix(y_true=test.iloc[:,col].to_numpy(), y_pred=pred_test[col-1])\n",
    "tn, fp, fn, tp = confusion.ravel()\n",
    "cm = np.array([[tp,fn], [fp, tn]])\n",
    "ls = [\"Positive\", \"Negative\"] # your y labels\n",
    "disp = ConfusionMatrixDisplay(confusion_matrix=cm, display_labels=ls)\n",
    "disp.plot(axs[i,j]) \n",
    "plt.title(label[col])"
   ]
  },
  {
   "cell_type": "code",
   "execution_count": 107,
   "id": "9ae9a6b8",
   "metadata": {},
   "outputs": [
    {
     "name": "stderr",
     "output_type": "stream",
     "text": [
      "/Users/anish/opt/anaconda3/envs/data-science/lib/python3.9/site-packages/sklearn/utils/validation.py:70: FutureWarning: Pass include_values=AxesSubplot(0.672059,0.125;0.227941x0.343182) as keyword args. From version 1.0 (renaming of 0.25) passing these as positional arguments will result in an error\n",
      "  warnings.warn(f\"Pass {args_msg} as keyword args. From version \"\n"
     ]
    },
    {
     "data": {
      "text/plain": [
       "Text(0.5, 1.0, 'CWE-469')"
      ]
     },
     "execution_count": 107,
     "metadata": {},
     "output_type": "execute_result"
    },
    {
     "data": {
      "text/plain": [
       "<Figure size 432x288 with 0 Axes>"
      ]
     },
     "metadata": {},
     "output_type": "display_data"
    },
    {
     "data": {
      "image/png": "[encoded data removed]",
      "text/plain": [
       "<Figure size 432x288 with 2 Axes>"
      ]
     },
     "metadata": {
      "needs_background": "light"
     },
     "output_type": "display_data"
    }
   ],
   "source": [
    "fig = plt.figure()\n",
    "col = 3\n",
    "confusion = sklearn.metrics.confusion_matrix(y_true=test.iloc[:,col].to_numpy(), y_pred=pred_test[col-1])\n",
    "tn, fp, fn, tp = confusion.ravel()\n",
    "cm = np.array([[tp,fn], [fp, tn]])\n",
    "ls = [\"Positive\", \"Negative\"] # your y labels\n",
    "disp = ConfusionMatrixDisplay(confusion_matrix=cm, display_labels=ls)\n",
    "disp.plot(axs[i,j]) \n",
    "plt.title(label[col])"
   ]
  },
  {
   "cell_type": "code",
   "execution_count": 108,
   "id": "f4c6ce3a",
   "metadata": {},
   "outputs": [
    {
     "name": "stderr",
     "output_type": "stream",
     "text": [
      "/Users/anish/opt/anaconda3/envs/data-science/lib/python3.9/site-packages/sklearn/utils/validation.py:70: FutureWarning: Pass include_values=AxesSubplot(0.672059,0.125;0.227941x0.343182) as keyword args. From version 1.0 (renaming of 0.25) passing these as positional arguments will result in an error\n",
      "  warnings.warn(f\"Pass {args_msg} as keyword args. From version \"\n"
     ]
    },
    {
     "data": {
      "text/plain": [
       "Text(0.5, 1.0, 'CWE-476')"
      ]
     },
     "execution_count": 108,
     "metadata": {},
     "output_type": "execute_result"
    },
    {
     "data": {
      "text/plain": [
       "<Figure size 432x288 with 0 Axes>"
      ]
     },
     "metadata": {},
     "output_type": "display_data"
    },
    {
     "data": {
      "image/png": "[encoded data removed]",
      "text/plain": [
       "<Figure size 432x288 with 2 Axes>"
      ]
     },
     "metadata": {
      "needs_background": "light"
     },
     "output_type": "display_data"
    }
   ],
   "source": [
    "fig = plt.figure()\n",
    "col = 4\n",
    "confusion = sklearn.metrics.confusion_matrix(y_true=test.iloc[:,col].to_numpy(), y_pred=pred_test[col-1])\n",
    "tn, fp, fn, tp = confusion.ravel()\n",
    "cm = np.array([[tp,fn], [fp, tn]])\n",
    "ls = [\"Positive\", \"Negative\"] # your y labels\n",
    "disp = ConfusionMatrixDisplay(confusion_matrix=cm, display_labels=ls)\n",
    "disp.plot(axs[i,j]) \n",
    "plt.title(label[col])"
   ]
  },
  {
   "cell_type": "code",
   "execution_count": 109,
   "id": "ca7cc86f",
   "metadata": {},
   "outputs": [
    {
     "name": "stderr",
     "output_type": "stream",
     "text": [
      "/Users/anish/opt/anaconda3/envs/data-science/lib/python3.9/site-packages/sklearn/utils/validation.py:70: FutureWarning: Pass include_values=AxesSubplot(0.672059,0.125;0.227941x0.343182) as keyword args. From version 1.0 (renaming of 0.25) passing these as positional arguments will result in an error\n",
      "  warnings.warn(f\"Pass {args_msg} as keyword args. From version \"\n"
     ]
    },
    {
     "data": {
      "text/plain": [
       "Text(0.5, 1.0, 'CWE-other')"
      ]
     },
     "execution_count": 109,
     "metadata": {},
     "output_type": "execute_result"
    },
    {
     "data": {
      "text/plain": [
       "<Figure size 432x288 with 0 Axes>"
      ]
     },
     "metadata": {},
     "output_type": "display_data"
    },
    {
     "data": {
      "image/png": "[encoded data removed]",
      "text/plain": [
       "<Figure size 432x288 with 2 Axes>"
      ]
     },
     "metadata": {
      "needs_background": "light"
     },
     "output_type": "display_data"
    }
   ],
   "source": [
    "fig = plt.figure()\n",
    "col = 5\n",
    "confusion = sklearn.metrics.confusion_matrix(y_true=test.iloc[:,col].to_numpy(), y_pred=pred_test[col-1])\n",
    "tn, fp, fn, tp = confusion.ravel()\n",
    "cm = np.array([[tp,fn], [fp, tn]])\n",
    "ls = [\"Positive\", \"Negative\"] # your y labels\n",
    "disp = ConfusionMatrixDisplay(confusion_matrix=cm, display_labels=ls)\n",
    "disp.plot(axs[i,j]) \n",
    "plt.title(label[col])"
   ]
  },
  {
   "cell_type": "code",
   "execution_count": 60,
   "id": "029703c7",
   "metadata": {},
   "outputs": [],
   "source": [
    "history = None\n",
    "with open('history/History-ALL-40EP-CNN', 'rb') as file_pi:\n",
    "    history = pickle.load(file_pi)\n",
    "#     pickle.dump(history.history, file_pi)"
   ]
  },
  {
   "cell_type": "code",
   "execution_count": null,
   "id": "3945f4e3",
   "metadata": {},
   "outputs": [],
   "source": []
  },
  {
   "cell_type": "markdown",
   "id": "d3d19d27",
   "metadata": {},
   "source": [
    "### Plot The Model's Training History"
   ]
  },
  {
   "cell_type": "code",
   "execution_count": 61,
   "id": "e8d34a23",
   "metadata": {
    "scrolled": false
   },
   "outputs": [
    {
     "name": "stderr",
     "output_type": "stream",
     "text": [
      "/var/folders/vg/vgr0bv8n3yncqxgmfckzt_6h0000gn/T/ipykernel_21935/3866507951.py:6: UserWarning: color is redundantly defined by the 'color' keyword argument and the fmt string \"b\" (-> color=(0.0, 0.0, 1.0, 1)). The keyword argument will take precedence.\n",
      "  axs[0,0].plot(epochs_range, history['val_%s'%(model.metrics_names[6])], 'b', label='CWE-119', color='green')\n",
      "/var/folders/vg/vgr0bv8n3yncqxgmfckzt_6h0000gn/T/ipykernel_21935/3866507951.py:7: UserWarning: color is redundantly defined by the 'color' keyword argument and the fmt string \"b\" (-> color=(0.0, 0.0, 1.0, 1)). The keyword argument will take precedence.\n",
      "  axs[0,0].plot(epochs_range, history['val_%s'%(model.metrics_names[7])], 'b', label='CWE-120', color='blue')\n",
      "/var/folders/vg/vgr0bv8n3yncqxgmfckzt_6h0000gn/T/ipykernel_21935/3866507951.py:8: UserWarning: color is redundantly defined by the 'color' keyword argument and the fmt string \"b\" (-> color=(0.0, 0.0, 1.0, 1)). The keyword argument will take precedence.\n",
      "  axs[0,0].plot(epochs_range, history['val_%s'%(model.metrics_names[8])], 'b', label='CWE-469', color='red')\n",
      "/var/folders/vg/vgr0bv8n3yncqxgmfckzt_6h0000gn/T/ipykernel_21935/3866507951.py:9: UserWarning: color is redundantly defined by the 'color' keyword argument and the fmt string \"b\" (-> color=(0.0, 0.0, 1.0, 1)). The keyword argument will take precedence.\n",
      "  axs[0,0].plot(epochs_range, history['val_%s'%(model.metrics_names[9])], 'b', label='CWE-479', color='purple')\n",
      "/var/folders/vg/vgr0bv8n3yncqxgmfckzt_6h0000gn/T/ipykernel_21935/3866507951.py:10: UserWarning: color is redundantly defined by the 'color' keyword argument and the fmt string \"b\" (-> color=(0.0, 0.0, 1.0, 1)). The keyword argument will take precedence.\n",
      "  axs[0,0].plot(epochs_range, history['val_%s'%(model.metrics_names[10])], 'b', label='CWE-Other', color='orange')\n",
      "/var/folders/vg/vgr0bv8n3yncqxgmfckzt_6h0000gn/T/ipykernel_21935/3866507951.py:15: UserWarning: color is redundantly defined by the 'color' keyword argument and the fmt string \"b\" (-> color=(0.0, 0.0, 1.0, 1)). The keyword argument will take precedence.\n",
      "  axs[0,1].plot(epochs_range, history['val_%s'%(model.metrics_names[1])], 'b', label='CWE-119', color='green')\n",
      "/var/folders/vg/vgr0bv8n3yncqxgmfckzt_6h0000gn/T/ipykernel_21935/3866507951.py:16: UserWarning: color is redundantly defined by the 'color' keyword argument and the fmt string \"b\" (-> color=(0.0, 0.0, 1.0, 1)). The keyword argument will take precedence.\n",
      "  axs[0,1].plot(epochs_range, history['val_%s'%(model.metrics_names[2])], 'b', label='CWE-120', color='blue')\n",
      "/var/folders/vg/vgr0bv8n3yncqxgmfckzt_6h0000gn/T/ipykernel_21935/3866507951.py:17: UserWarning: color is redundantly defined by the 'color' keyword argument and the fmt string \"b\" (-> color=(0.0, 0.0, 1.0, 1)). The keyword argument will take precedence.\n",
      "  axs[0,1].plot(epochs_range, history['val_%s'%(model.metrics_names[3])], 'b', label='CWE-469', color='red')\n",
      "/var/folders/vg/vgr0bv8n3yncqxgmfckzt_6h0000gn/T/ipykernel_21935/3866507951.py:18: UserWarning: color is redundantly defined by the 'color' keyword argument and the fmt string \"b\" (-> color=(0.0, 0.0, 1.0, 1)). The keyword argument will take precedence.\n",
      "  axs[0,1].plot(epochs_range, history['val_%s'%(model.metrics_names[4])], 'b', label='CWE-479', color='purple')\n",
      "/var/folders/vg/vgr0bv8n3yncqxgmfckzt_6h0000gn/T/ipykernel_21935/3866507951.py:19: UserWarning: color is redundantly defined by the 'color' keyword argument and the fmt string \"b\" (-> color=(0.0, 0.0, 1.0, 1)). The keyword argument will take precedence.\n",
      "  axs[0,1].plot(epochs_range, history['val_%s'%(model.metrics_names[5])], 'b', label='CWE-Other', color='orange')\n",
      "/var/folders/vg/vgr0bv8n3yncqxgmfckzt_6h0000gn/T/ipykernel_21935/3866507951.py:23: UserWarning: color is redundantly defined by the 'color' keyword argument and the fmt string \"b\" (-> color=(0.0, 0.0, 1.0, 1)). The keyword argument will take precedence.\n",
      "  axs[1,0].plot(epochs_range, history[model.metrics_names[6]], 'b', label='CWE-119', color='green')\n",
      "/var/folders/vg/vgr0bv8n3yncqxgmfckzt_6h0000gn/T/ipykernel_21935/3866507951.py:24: UserWarning: color is redundantly defined by the 'color' keyword argument and the fmt string \"b\" (-> color=(0.0, 0.0, 1.0, 1)). The keyword argument will take precedence.\n",
      "  axs[1,0].plot(epochs_range, history[model.metrics_names[7]], 'b', label='CWE-120', color='blue')\n",
      "/var/folders/vg/vgr0bv8n3yncqxgmfckzt_6h0000gn/T/ipykernel_21935/3866507951.py:25: UserWarning: color is redundantly defined by the 'color' keyword argument and the fmt string \"b\" (-> color=(0.0, 0.0, 1.0, 1)). The keyword argument will take precedence.\n",
      "  axs[1,0].plot(epochs_range, history[model.metrics_names[8]], 'b', label='CWE-469', color='red')\n",
      "/var/folders/vg/vgr0bv8n3yncqxgmfckzt_6h0000gn/T/ipykernel_21935/3866507951.py:26: UserWarning: color is redundantly defined by the 'color' keyword argument and the fmt string \"b\" (-> color=(0.0, 0.0, 1.0, 1)). The keyword argument will take precedence.\n",
      "  axs[1,0].plot(epochs_range, history[model.metrics_names[9]], 'b', label='CWE-479', color='purple')\n",
      "/var/folders/vg/vgr0bv8n3yncqxgmfckzt_6h0000gn/T/ipykernel_21935/3866507951.py:27: UserWarning: color is redundantly defined by the 'color' keyword argument and the fmt string \"b\" (-> color=(0.0, 0.0, 1.0, 1)). The keyword argument will take precedence.\n",
      "  axs[1,0].plot(epochs_range, history[model.metrics_names[10]], 'b', label='CWE-Other', color='orange')\n",
      "/var/folders/vg/vgr0bv8n3yncqxgmfckzt_6h0000gn/T/ipykernel_21935/3866507951.py:32: UserWarning: color is redundantly defined by the 'color' keyword argument and the fmt string \"b\" (-> color=(0.0, 0.0, 1.0, 1)). The keyword argument will take precedence.\n",
      "  axs[1,1].plot(epochs_range, history[model.metrics_names[1]], 'b', label='CWE-119', color='green')\n",
      "/var/folders/vg/vgr0bv8n3yncqxgmfckzt_6h0000gn/T/ipykernel_21935/3866507951.py:33: UserWarning: color is redundantly defined by the 'color' keyword argument and the fmt string \"b\" (-> color=(0.0, 0.0, 1.0, 1)). The keyword argument will take precedence.\n",
      "  axs[1,1].plot(epochs_range, history[model.metrics_names[2]], 'b', label='CWE-120', color='blue')\n",
      "/var/folders/vg/vgr0bv8n3yncqxgmfckzt_6h0000gn/T/ipykernel_21935/3866507951.py:34: UserWarning: color is redundantly defined by the 'color' keyword argument and the fmt string \"b\" (-> color=(0.0, 0.0, 1.0, 1)). The keyword argument will take precedence.\n",
      "  axs[1,1].plot(epochs_range, history[model.metrics_names[3]], 'b', label='CWE-469', color='red')\n",
      "/var/folders/vg/vgr0bv8n3yncqxgmfckzt_6h0000gn/T/ipykernel_21935/3866507951.py:35: UserWarning: color is redundantly defined by the 'color' keyword argument and the fmt string \"b\" (-> color=(0.0, 0.0, 1.0, 1)). The keyword argument will take precedence.\n",
      "  axs[1,1].plot(epochs_range, history[model.metrics_names[4]], 'b', label='CWE-479', color='purple')\n",
      "/var/folders/vg/vgr0bv8n3yncqxgmfckzt_6h0000gn/T/ipykernel_21935/3866507951.py:36: UserWarning: color is redundantly defined by the 'color' keyword argument and the fmt string \"b\" (-> color=(0.0, 0.0, 1.0, 1)). The keyword argument will take precedence.\n",
      "  axs[1,1].plot(epochs_range, history[model.metrics_names[5]], 'b', label='CWE-Other', color='orange')\n"
     ]
    },
    {
     "data": {
      "text/plain": [
       "<matplotlib.legend.Legend at 0x7fe2c5093250>"
      ]
     },
     "execution_count": 61,
     "metadata": {},
     "output_type": "execute_result"
    },
    {
     "data": {
      "image/png": "[encoded data removed]",
      "text/plain": [
       "<Figure size 1440x1080 with 4 Axes>"
      ]
     },
     "metadata": {
      "needs_background": "light"
     },
     "output_type": "display_data"
    }
   ],
   "source": [
    "epochs_range = range(len(history[model.metrics_names[1]]))\n",
    "\n",
    "fig, axs = plt.subplots(2, 2, figsize=(20,15))\n",
    "fig.suptitle('CNN with 10 Epochs')\n",
    "\n",
    "axs[0,0].plot(epochs_range, history['val_%s'%(model.metrics_names[6])], 'b', label='CWE-119', color='green')\n",
    "axs[0,0].plot(epochs_range, history['val_%s'%(model.metrics_names[7])], 'b', label='CWE-120', color='blue')\n",
    "axs[0,0].plot(epochs_range, history['val_%s'%(model.metrics_names[8])], 'b', label='CWE-469', color='red')\n",
    "axs[0,0].plot(epochs_range, history['val_%s'%(model.metrics_names[9])], 'b', label='CWE-479', color='purple')\n",
    "axs[0,0].plot(epochs_range, history['val_%s'%(model.metrics_names[10])], 'b', label='CWE-Other', color='orange')\n",
    "axs[0,0].set_title('Training accuracy')\n",
    "axs[0,0].legend()\n",
    "\n",
    "\n",
    "axs[0,1].plot(epochs_range, history['val_%s'%(model.metrics_names[1])], 'b', label='CWE-119', color='green')\n",
    "axs[0,1].plot(epochs_range, history['val_%s'%(model.metrics_names[2])], 'b', label='CWE-120', color='blue')\n",
    "axs[0,1].plot(epochs_range, history['val_%s'%(model.metrics_names[3])], 'b', label='CWE-469', color='red')\n",
    "axs[0,1].plot(epochs_range, history['val_%s'%(model.metrics_names[4])], 'b', label='CWE-479', color='purple')\n",
    "axs[0,1].plot(epochs_range, history['val_%s'%(model.metrics_names[5])], 'b', label='CWE-Other', color='orange')\n",
    "axs[0,1].set_title('Training Loss')\n",
    "axs[0,1].legend()\n",
    "\n",
    "axs[1,0].plot(epochs_range, history[model.metrics_names[6]], 'b', label='CWE-119', color='green')\n",
    "axs[1,0].plot(epochs_range, history[model.metrics_names[7]], 'b', label='CWE-120', color='blue')\n",
    "axs[1,0].plot(epochs_range, history[model.metrics_names[8]], 'b', label='CWE-469', color='red')\n",
    "axs[1,0].plot(epochs_range, history[model.metrics_names[9]], 'b', label='CWE-479', color='purple')\n",
    "axs[1,0].plot(epochs_range, history[model.metrics_names[10]], 'b', label='CWE-Other', color='orange')\n",
    "axs[1,0].set_title('Validation accuracy')\n",
    "axs[1,0].legend()\n",
    "\n",
    "\n",
    "axs[1,1].plot(epochs_range, history[model.metrics_names[1]], 'b', label='CWE-119', color='green')\n",
    "axs[1,1].plot(epochs_range, history[model.metrics_names[2]], 'b', label='CWE-120', color='blue')\n",
    "axs[1,1].plot(epochs_range, history[model.metrics_names[3]], 'b', label='CWE-469', color='red')\n",
    "axs[1,1].plot(epochs_range, history[model.metrics_names[4]], 'b', label='CWE-479', color='purple')\n",
    "axs[1,1].plot(epochs_range, history[model.metrics_names[5]], 'b', label='CWE-Other', color='orange')\n",
    "axs[1,1].set_title('Validation Loss')\n",
    "axs[1,1].legend()\n"
   ]
  },
  {
   "cell_type": "code",
   "execution_count": null,
   "id": "389d4365",
   "metadata": {},
   "outputs": [],
   "source": []
  }
 ],
 "metadata": {
  "kernelspec": {
   "display_name": "Python 3 (ipykernel)",
   "language": "python",
   "name": "python3"
  },
  "language_info": {
   "codemirror_mode": {
    "name": "ipython",
    "version": 3
   },
   "file_extension": ".py",
   "mimetype": "text/x-python",
   "name": "python",
   "nbconvert_exporter": "python",
   "pygments_lexer": "ipython3",
   "version": "3.9.7"
  }
 },
 "nbformat": 4,
 "nbformat_minor": 5
}
